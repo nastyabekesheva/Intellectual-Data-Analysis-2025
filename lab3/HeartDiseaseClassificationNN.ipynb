{
 "cells": [
  {
   "cell_type": "code",
   "execution_count": 1,
   "id": "34656eb5",
   "metadata": {
    "_cell_guid": "b1076dfc-b9ad-4769-8c92-a6c4dae69d19",
    "_uuid": "8f2839f25d086af736a60e9eeb907d3b93b6e0e5",
    "execution": {
     "iopub.execute_input": "2025-10-06T18:45:13.789477Z",
     "iopub.status.busy": "2025-10-06T18:45:13.788837Z",
     "iopub.status.idle": "2025-10-06T18:45:13.797093Z",
     "shell.execute_reply": "2025-10-06T18:45:13.796019Z"
    },
    "papermill": {
     "duration": 0.02082,
     "end_time": "2025-10-06T18:45:13.798606",
     "exception": false,
     "start_time": "2025-10-06T18:45:13.777786",
     "status": "completed"
    },
    "tags": []
   },
   "outputs": [],
   "source": [
    "import warnings\n",
    "warnings.filterwarnings('ignore')"
   ]
  },
  {
   "cell_type": "code",
   "execution_count": 2,
   "id": "4975ee3c",
   "metadata": {
    "execution": {
     "iopub.execute_input": "2025-10-06T18:45:13.812722Z",
     "iopub.status.busy": "2025-10-06T18:45:13.812360Z",
     "iopub.status.idle": "2025-10-06T18:45:21.876256Z",
     "shell.execute_reply": "2025-10-06T18:45:21.875209Z"
    },
    "papermill": {
     "duration": 8.073883,
     "end_time": "2025-10-06T18:45:21.877927",
     "exception": false,
     "start_time": "2025-10-06T18:45:13.804044",
     "status": "completed"
    },
    "tags": []
   },
   "outputs": [],
   "source": [
    "import pandas as pd\n",
    "import numpy as np \n",
    "\n",
    "import matplotlib.pyplot as plt\n",
    "import seaborn as sns\n",
    "\n",
    "from sklearn.preprocessing import StandardScaler\n",
    "from sklearn.model_selection import train_test_split\n",
    "\n",
    "import torch\n",
    "import torch.nn as nn\n",
    "import torch.optim as optim\n",
    "from torch.utils.data import TensorDataset, DataLoader\n",
    "from sklearn.model_selection import train_test_split\n",
    "from sklearn.preprocessing import StandardScaler\n",
    "from sklearn.metrics import accuracy_score, confusion_matrix, classification_report\n",
    "import numpy as np\n",
    "from tqdm import tqdm"
   ]
  },
  {
   "cell_type": "markdown",
   "id": "42ee44ba",
   "metadata": {
    "papermill": {
     "duration": 0.004605,
     "end_time": "2025-10-06T18:45:21.887807",
     "exception": false,
     "start_time": "2025-10-06T18:45:21.883202",
     "status": "completed"
    },
    "tags": []
   },
   "source": [
    "## Load data"
   ]
  },
  {
   "cell_type": "code",
   "execution_count": 3,
   "id": "6d74b812",
   "metadata": {
    "execution": {
     "iopub.execute_input": "2025-10-06T18:45:21.899328Z",
     "iopub.status.busy": "2025-10-06T18:45:21.898416Z",
     "iopub.status.idle": "2025-10-06T18:45:21.946071Z",
     "shell.execute_reply": "2025-10-06T18:45:21.945162Z"
    },
    "papermill": {
     "duration": 0.054778,
     "end_time": "2025-10-06T18:45:21.947518",
     "exception": false,
     "start_time": "2025-10-06T18:45:21.892740",
     "status": "completed"
    },
    "tags": []
   },
   "outputs": [
    {
     "data": {
      "text/html": [
       "<div>\n",
       "<style scoped>\n",
       "    .dataframe tbody tr th:only-of-type {\n",
       "        vertical-align: middle;\n",
       "    }\n",
       "\n",
       "    .dataframe tbody tr th {\n",
       "        vertical-align: top;\n",
       "    }\n",
       "\n",
       "    .dataframe thead th {\n",
       "        text-align: right;\n",
       "    }\n",
       "</style>\n",
       "<table border=\"1\" class=\"dataframe\">\n",
       "  <thead>\n",
       "    <tr style=\"text-align: right;\">\n",
       "      <th></th>\n",
       "      <th>Age</th>\n",
       "      <th>Sex</th>\n",
       "      <th>ChestPainType</th>\n",
       "      <th>RestingBP</th>\n",
       "      <th>Cholesterol</th>\n",
       "      <th>FastingBS</th>\n",
       "      <th>RestingECG</th>\n",
       "      <th>MaxHR</th>\n",
       "      <th>ExerciseAngina</th>\n",
       "      <th>Oldpeak</th>\n",
       "      <th>ST_Slope</th>\n",
       "      <th>HeartDisease</th>\n",
       "    </tr>\n",
       "  </thead>\n",
       "  <tbody>\n",
       "    <tr>\n",
       "      <th>0</th>\n",
       "      <td>40</td>\n",
       "      <td>M</td>\n",
       "      <td>ATA</td>\n",
       "      <td>140</td>\n",
       "      <td>289</td>\n",
       "      <td>0</td>\n",
       "      <td>Normal</td>\n",
       "      <td>172</td>\n",
       "      <td>N</td>\n",
       "      <td>0.0</td>\n",
       "      <td>Up</td>\n",
       "      <td>0</td>\n",
       "    </tr>\n",
       "    <tr>\n",
       "      <th>1</th>\n",
       "      <td>49</td>\n",
       "      <td>F</td>\n",
       "      <td>NAP</td>\n",
       "      <td>160</td>\n",
       "      <td>180</td>\n",
       "      <td>0</td>\n",
       "      <td>Normal</td>\n",
       "      <td>156</td>\n",
       "      <td>N</td>\n",
       "      <td>1.0</td>\n",
       "      <td>Flat</td>\n",
       "      <td>1</td>\n",
       "    </tr>\n",
       "    <tr>\n",
       "      <th>2</th>\n",
       "      <td>37</td>\n",
       "      <td>M</td>\n",
       "      <td>ATA</td>\n",
       "      <td>130</td>\n",
       "      <td>283</td>\n",
       "      <td>0</td>\n",
       "      <td>ST</td>\n",
       "      <td>98</td>\n",
       "      <td>N</td>\n",
       "      <td>0.0</td>\n",
       "      <td>Up</td>\n",
       "      <td>0</td>\n",
       "    </tr>\n",
       "    <tr>\n",
       "      <th>3</th>\n",
       "      <td>48</td>\n",
       "      <td>F</td>\n",
       "      <td>ASY</td>\n",
       "      <td>138</td>\n",
       "      <td>214</td>\n",
       "      <td>0</td>\n",
       "      <td>Normal</td>\n",
       "      <td>108</td>\n",
       "      <td>Y</td>\n",
       "      <td>1.5</td>\n",
       "      <td>Flat</td>\n",
       "      <td>1</td>\n",
       "    </tr>\n",
       "    <tr>\n",
       "      <th>4</th>\n",
       "      <td>54</td>\n",
       "      <td>M</td>\n",
       "      <td>NAP</td>\n",
       "      <td>150</td>\n",
       "      <td>195</td>\n",
       "      <td>0</td>\n",
       "      <td>Normal</td>\n",
       "      <td>122</td>\n",
       "      <td>N</td>\n",
       "      <td>0.0</td>\n",
       "      <td>Up</td>\n",
       "      <td>0</td>\n",
       "    </tr>\n",
       "  </tbody>\n",
       "</table>\n",
       "</div>"
      ],
      "text/plain": [
       "   Age Sex ChestPainType  RestingBP  Cholesterol  FastingBS RestingECG  MaxHR  \\\n",
       "0   40   M           ATA        140          289          0     Normal    172   \n",
       "1   49   F           NAP        160          180          0     Normal    156   \n",
       "2   37   M           ATA        130          283          0         ST     98   \n",
       "3   48   F           ASY        138          214          0     Normal    108   \n",
       "4   54   M           NAP        150          195          0     Normal    122   \n",
       "\n",
       "  ExerciseAngina  Oldpeak ST_Slope  HeartDisease  \n",
       "0              N      0.0       Up             0  \n",
       "1              N      1.0     Flat             1  \n",
       "2              N      0.0       Up             0  \n",
       "3              Y      1.5     Flat             1  \n",
       "4              N      0.0       Up             0  "
      ]
     },
     "execution_count": 3,
     "metadata": {},
     "output_type": "execute_result"
    }
   ],
   "source": [
    "df = pd.read_csv('/kaggle/input/heart-failure-prediction/heart.csv')\n",
    "df.head()"
   ]
  },
  {
   "cell_type": "markdown",
   "id": "1daa61b1",
   "metadata": {
    "papermill": {
     "duration": 0.005019,
     "end_time": "2025-10-06T18:45:21.958254",
     "exception": false,
     "start_time": "2025-10-06T18:45:21.953235",
     "status": "completed"
    },
    "tags": []
   },
   "source": [
    "## Pre-proccesing"
   ]
  },
  {
   "cell_type": "code",
   "execution_count": 4,
   "id": "b93e104f",
   "metadata": {
    "execution": {
     "iopub.execute_input": "2025-10-06T18:45:21.969709Z",
     "iopub.status.busy": "2025-10-06T18:45:21.969393Z",
     "iopub.status.idle": "2025-10-06T18:45:21.989629Z",
     "shell.execute_reply": "2025-10-06T18:45:21.988886Z"
    },
    "papermill": {
     "duration": 0.027718,
     "end_time": "2025-10-06T18:45:21.991097",
     "exception": false,
     "start_time": "2025-10-06T18:45:21.963379",
     "status": "completed"
    },
    "tags": []
   },
   "outputs": [],
   "source": [
    "categorical_features = [\"Sex\", \"ChestPainType\", \"RestingECG\", \"ExerciseAngina\", \"ST_Slope\"]\n",
    "df_encoded = pd.get_dummies(df, columns=categorical_features, drop_first=True)\n",
    "df_encoded = df_encoded.astype(int)"
   ]
  },
  {
   "cell_type": "code",
   "execution_count": 5,
   "id": "e063d590",
   "metadata": {
    "execution": {
     "iopub.execute_input": "2025-10-06T18:45:22.002494Z",
     "iopub.status.busy": "2025-10-06T18:45:22.002210Z",
     "iopub.status.idle": "2025-10-06T18:45:22.013307Z",
     "shell.execute_reply": "2025-10-06T18:45:22.012482Z"
    },
    "papermill": {
     "duration": 0.018247,
     "end_time": "2025-10-06T18:45:22.014663",
     "exception": false,
     "start_time": "2025-10-06T18:45:21.996416",
     "status": "completed"
    },
    "tags": []
   },
   "outputs": [
    {
     "data": {
      "text/html": [
       "<div>\n",
       "<style scoped>\n",
       "    .dataframe tbody tr th:only-of-type {\n",
       "        vertical-align: middle;\n",
       "    }\n",
       "\n",
       "    .dataframe tbody tr th {\n",
       "        vertical-align: top;\n",
       "    }\n",
       "\n",
       "    .dataframe thead th {\n",
       "        text-align: right;\n",
       "    }\n",
       "</style>\n",
       "<table border=\"1\" class=\"dataframe\">\n",
       "  <thead>\n",
       "    <tr style=\"text-align: right;\">\n",
       "      <th></th>\n",
       "      <th>Age</th>\n",
       "      <th>RestingBP</th>\n",
       "      <th>Cholesterol</th>\n",
       "      <th>FastingBS</th>\n",
       "      <th>MaxHR</th>\n",
       "      <th>Oldpeak</th>\n",
       "      <th>HeartDisease</th>\n",
       "      <th>Sex_M</th>\n",
       "      <th>ChestPainType_ATA</th>\n",
       "      <th>ChestPainType_NAP</th>\n",
       "      <th>ChestPainType_TA</th>\n",
       "      <th>RestingECG_Normal</th>\n",
       "      <th>RestingECG_ST</th>\n",
       "      <th>ExerciseAngina_Y</th>\n",
       "      <th>ST_Slope_Flat</th>\n",
       "      <th>ST_Slope_Up</th>\n",
       "    </tr>\n",
       "  </thead>\n",
       "  <tbody>\n",
       "    <tr>\n",
       "      <th>0</th>\n",
       "      <td>40</td>\n",
       "      <td>140</td>\n",
       "      <td>289</td>\n",
       "      <td>0</td>\n",
       "      <td>172</td>\n",
       "      <td>0</td>\n",
       "      <td>0</td>\n",
       "      <td>1</td>\n",
       "      <td>1</td>\n",
       "      <td>0</td>\n",
       "      <td>0</td>\n",
       "      <td>1</td>\n",
       "      <td>0</td>\n",
       "      <td>0</td>\n",
       "      <td>0</td>\n",
       "      <td>1</td>\n",
       "    </tr>\n",
       "    <tr>\n",
       "      <th>1</th>\n",
       "      <td>49</td>\n",
       "      <td>160</td>\n",
       "      <td>180</td>\n",
       "      <td>0</td>\n",
       "      <td>156</td>\n",
       "      <td>1</td>\n",
       "      <td>1</td>\n",
       "      <td>0</td>\n",
       "      <td>0</td>\n",
       "      <td>1</td>\n",
       "      <td>0</td>\n",
       "      <td>1</td>\n",
       "      <td>0</td>\n",
       "      <td>0</td>\n",
       "      <td>1</td>\n",
       "      <td>0</td>\n",
       "    </tr>\n",
       "    <tr>\n",
       "      <th>2</th>\n",
       "      <td>37</td>\n",
       "      <td>130</td>\n",
       "      <td>283</td>\n",
       "      <td>0</td>\n",
       "      <td>98</td>\n",
       "      <td>0</td>\n",
       "      <td>0</td>\n",
       "      <td>1</td>\n",
       "      <td>1</td>\n",
       "      <td>0</td>\n",
       "      <td>0</td>\n",
       "      <td>0</td>\n",
       "      <td>1</td>\n",
       "      <td>0</td>\n",
       "      <td>0</td>\n",
       "      <td>1</td>\n",
       "    </tr>\n",
       "    <tr>\n",
       "      <th>3</th>\n",
       "      <td>48</td>\n",
       "      <td>138</td>\n",
       "      <td>214</td>\n",
       "      <td>0</td>\n",
       "      <td>108</td>\n",
       "      <td>1</td>\n",
       "      <td>1</td>\n",
       "      <td>0</td>\n",
       "      <td>0</td>\n",
       "      <td>0</td>\n",
       "      <td>0</td>\n",
       "      <td>1</td>\n",
       "      <td>0</td>\n",
       "      <td>1</td>\n",
       "      <td>1</td>\n",
       "      <td>0</td>\n",
       "    </tr>\n",
       "    <tr>\n",
       "      <th>4</th>\n",
       "      <td>54</td>\n",
       "      <td>150</td>\n",
       "      <td>195</td>\n",
       "      <td>0</td>\n",
       "      <td>122</td>\n",
       "      <td>0</td>\n",
       "      <td>0</td>\n",
       "      <td>1</td>\n",
       "      <td>0</td>\n",
       "      <td>1</td>\n",
       "      <td>0</td>\n",
       "      <td>1</td>\n",
       "      <td>0</td>\n",
       "      <td>0</td>\n",
       "      <td>0</td>\n",
       "      <td>1</td>\n",
       "    </tr>\n",
       "  </tbody>\n",
       "</table>\n",
       "</div>"
      ],
      "text/plain": [
       "   Age  RestingBP  Cholesterol  FastingBS  MaxHR  Oldpeak  HeartDisease  \\\n",
       "0   40        140          289          0    172        0             0   \n",
       "1   49        160          180          0    156        1             1   \n",
       "2   37        130          283          0     98        0             0   \n",
       "3   48        138          214          0    108        1             1   \n",
       "4   54        150          195          0    122        0             0   \n",
       "\n",
       "   Sex_M  ChestPainType_ATA  ChestPainType_NAP  ChestPainType_TA  \\\n",
       "0      1                  1                  0                 0   \n",
       "1      0                  0                  1                 0   \n",
       "2      1                  1                  0                 0   \n",
       "3      0                  0                  0                 0   \n",
       "4      1                  0                  1                 0   \n",
       "\n",
       "   RestingECG_Normal  RestingECG_ST  ExerciseAngina_Y  ST_Slope_Flat  \\\n",
       "0                  1              0                 0              0   \n",
       "1                  1              0                 0              1   \n",
       "2                  0              1                 0              0   \n",
       "3                  1              0                 1              1   \n",
       "4                  1              0                 0              0   \n",
       "\n",
       "   ST_Slope_Up  \n",
       "0            1  \n",
       "1            0  \n",
       "2            1  \n",
       "3            0  \n",
       "4            1  "
      ]
     },
     "execution_count": 5,
     "metadata": {},
     "output_type": "execute_result"
    }
   ],
   "source": [
    "df_encoded.head()"
   ]
  },
  {
   "cell_type": "code",
   "execution_count": 6,
   "id": "d6277659",
   "metadata": {
    "execution": {
     "iopub.execute_input": "2025-10-06T18:45:22.026532Z",
     "iopub.status.busy": "2025-10-06T18:45:22.026250Z",
     "iopub.status.idle": "2025-10-06T18:45:22.037928Z",
     "shell.execute_reply": "2025-10-06T18:45:22.037088Z"
    },
    "papermill": {
     "duration": 0.019079,
     "end_time": "2025-10-06T18:45:22.039363",
     "exception": false,
     "start_time": "2025-10-06T18:45:22.020284",
     "status": "completed"
    },
    "tags": []
   },
   "outputs": [],
   "source": [
    "X = df_encoded.drop(\"HeartDisease\", axis=1)\n",
    "y = df_encoded[\"HeartDisease\"]\n",
    "\n",
    "numeric_features = [\"Age\", \"RestingBP\", \"Cholesterol\", \"FastingBS\", \"MaxHR\", \"Oldpeak\"]\n",
    "\n",
    "X_scaled = X.copy()\n",
    "scaler = StandardScaler()\n",
    "X_scaled[numeric_features] = scaler.fit_transform(X[numeric_features])"
   ]
  },
  {
   "cell_type": "code",
   "execution_count": 7,
   "id": "04caa1f4",
   "metadata": {
    "execution": {
     "iopub.execute_input": "2025-10-06T18:45:22.051494Z",
     "iopub.status.busy": "2025-10-06T18:45:22.051197Z",
     "iopub.status.idle": "2025-10-06T18:45:22.059912Z",
     "shell.execute_reply": "2025-10-06T18:45:22.059226Z"
    },
    "papermill": {
     "duration": 0.016524,
     "end_time": "2025-10-06T18:45:22.061411",
     "exception": false,
     "start_time": "2025-10-06T18:45:22.044887",
     "status": "completed"
    },
    "tags": []
   },
   "outputs": [],
   "source": [
    "X_train, X_test, y_train, y_test = train_test_split(\n",
    "    X_scaled, y, test_size=0.2, random_state=42, stratify=y\n",
    ")"
   ]
  },
  {
   "cell_type": "code",
   "execution_count": 8,
   "id": "cbc5ba6a",
   "metadata": {
    "execution": {
     "iopub.execute_input": "2025-10-06T18:45:22.073406Z",
     "iopub.status.busy": "2025-10-06T18:45:22.072810Z",
     "iopub.status.idle": "2025-10-06T18:45:22.102585Z",
     "shell.execute_reply": "2025-10-06T18:45:22.101852Z"
    },
    "papermill": {
     "duration": 0.037206,
     "end_time": "2025-10-06T18:45:22.104067",
     "exception": false,
     "start_time": "2025-10-06T18:45:22.066861",
     "status": "completed"
    },
    "tags": []
   },
   "outputs": [],
   "source": [
    "X_train_tensor = torch.tensor(X_train.values, dtype=torch.float32)\n",
    "X_test_tensor = torch.tensor(X_test.values, dtype=torch.float32)\n",
    "y_train_tensor = torch.tensor(y_train.values, dtype=torch.long)\n",
    "y_test_tensor = torch.tensor(y_test.values, dtype=torch.long)"
   ]
  },
  {
   "cell_type": "markdown",
   "id": "4d2d9f0e",
   "metadata": {
    "papermill": {
     "duration": 0.004893,
     "end_time": "2025-10-06T18:45:22.114462",
     "exception": false,
     "start_time": "2025-10-06T18:45:22.109569",
     "status": "completed"
    },
    "tags": []
   },
   "source": [
    "# Classification"
   ]
  },
  {
   "cell_type": "code",
   "execution_count": 9,
   "id": "015d8501",
   "metadata": {
    "execution": {
     "iopub.execute_input": "2025-10-06T18:45:22.126784Z",
     "iopub.status.busy": "2025-10-06T18:45:22.126013Z",
     "iopub.status.idle": "2025-10-06T18:45:22.132614Z",
     "shell.execute_reply": "2025-10-06T18:45:22.131880Z"
    },
    "papermill": {
     "duration": 0.014256,
     "end_time": "2025-10-06T18:45:22.133805",
     "exception": false,
     "start_time": "2025-10-06T18:45:22.119549",
     "status": "completed"
    },
    "tags": []
   },
   "outputs": [],
   "source": [
    "device = 'cuda' if torch.cuda.is_available() else 'cpu'"
   ]
  },
  {
   "cell_type": "code",
   "execution_count": 10,
   "id": "49d41ad1",
   "metadata": {
    "execution": {
     "iopub.execute_input": "2025-10-06T18:45:22.145804Z",
     "iopub.status.busy": "2025-10-06T18:45:22.145535Z",
     "iopub.status.idle": "2025-10-06T18:45:22.156177Z",
     "shell.execute_reply": "2025-10-06T18:45:22.155433Z"
    },
    "papermill": {
     "duration": 0.01827,
     "end_time": "2025-10-06T18:45:22.157439",
     "exception": false,
     "start_time": "2025-10-06T18:45:22.139169",
     "status": "completed"
    },
    "tags": []
   },
   "outputs": [],
   "source": [
    "from tqdm import tqdm\n",
    "import matplotlib.pyplot as plt\n",
    "import torch\n",
    "import copy\n",
    "\n",
    "def train_model(model, train_loader, test_loader, criterion, optimizer, \n",
    "                num_epochs=20, device='cpu', patience=5):\n",
    "    \"\"\"\n",
    "    Trains a PyTorch model with early stopping and returns the best model.\n",
    "    \n",
    "    Args:\n",
    "        model: PyTorch model\n",
    "        train_loader, test_loader: DataLoaders\n",
    "        criterion: loss function\n",
    "        optimizer: optimizer\n",
    "        num_epochs: max epochs\n",
    "        device: 'cpu' or 'cuda'\n",
    "        patience: number of epochs to wait for improvement before stopping\n",
    "    Returns:\n",
    "        best_model: model with lowest validation loss\n",
    "        train_losses, test_losses: lists of loss per epoch\n",
    "    \"\"\"\n",
    "    model.to(device)\n",
    "    train_losses, test_losses = [], []\n",
    "    best_loss = float('inf')\n",
    "    best_model_wts = copy.deepcopy(model.state_dict())\n",
    "    epochs_no_improve = 0\n",
    "\n",
    "    for epoch in range(num_epochs):\n",
    "        # --- Training ---\n",
    "        model.train()\n",
    "        running_loss = 0.0\n",
    "        for inputs, labels in tqdm(train_loader, desc=f\"Epoch {epoch+1}/{num_epochs} [Train]\", leave=False):\n",
    "            inputs, labels = inputs.to(device), labels.to(device)\n",
    "\n",
    "            optimizer.zero_grad()\n",
    "            outputs = model(inputs)\n",
    "            loss = criterion(outputs, labels)\n",
    "            loss.backward()\n",
    "            optimizer.step()\n",
    "            running_loss += loss.item()\n",
    "\n",
    "        train_loss = running_loss / len(train_loader)\n",
    "        train_losses.append(train_loss)\n",
    "\n",
    "        # --- Evaluation ---\n",
    "        model.eval()\n",
    "        running_test_loss = 0.0\n",
    "        with torch.no_grad():\n",
    "            for inputs, labels in tqdm(test_loader, desc=f\"Epoch {epoch+1}/{num_epochs} [Eval]\", leave=False):\n",
    "                inputs, labels = inputs.to(device), labels.to(device)\n",
    "                outputs = model(inputs)\n",
    "                loss = criterion(outputs, labels)\n",
    "                running_test_loss += loss.item()\n",
    "\n",
    "        test_loss = running_test_loss / len(test_loader)\n",
    "        test_losses.append(test_loss)\n",
    "\n",
    "        print(f\"Epoch [{epoch+1}/{num_epochs}] - Train Loss: {train_loss:.4f}, Test Loss: {test_loss:.4f}\")\n",
    "\n",
    "        # --- Early Stopping Check ---\n",
    "        if test_loss < best_loss:\n",
    "            best_loss = test_loss\n",
    "            best_model_wts = copy.deepcopy(model.state_dict())\n",
    "            epochs_no_improve = 0\n",
    "        else:\n",
    "            epochs_no_improve += 1\n",
    "            if epochs_no_improve >= patience:\n",
    "                print(f\"Early stopping at epoch {epoch+1}\")\n",
    "                break\n",
    "\n",
    "    # --- Load best model ---\n",
    "    model.load_state_dict(best_model_wts)\n",
    "\n",
    "    # --- Plot losses ---\n",
    "    plt.figure(figsize=(8,5))\n",
    "    plt.plot(range(1, len(train_losses)+1), train_losses, marker='o', label='Train Loss')\n",
    "    plt.plot(range(1, len(test_losses)+1), test_losses, marker='s', label='Test Loss')\n",
    "    plt.xlabel('Epoch')\n",
    "    plt.ylabel('Loss')\n",
    "    plt.title('Training & Validation Loss')\n",
    "    plt.legend()\n",
    "    plt.grid(True)\n",
    "    plt.show()\n",
    "\n",
    "    return model, train_losses, test_losses"
   ]
  },
  {
   "cell_type": "markdown",
   "id": "92f51368",
   "metadata": {
    "papermill": {
     "duration": 0.004941,
     "end_time": "2025-10-06T18:45:22.167796",
     "exception": false,
     "start_time": "2025-10-06T18:45:22.162855",
     "status": "completed"
    },
    "tags": []
   },
   "source": [
    "## Fully-connected NN"
   ]
  },
  {
   "cell_type": "code",
   "execution_count": 11,
   "id": "1dd1eab7",
   "metadata": {
    "execution": {
     "iopub.execute_input": "2025-10-06T18:45:22.179623Z",
     "iopub.status.busy": "2025-10-06T18:45:22.179332Z",
     "iopub.status.idle": "2025-10-06T18:45:22.186498Z",
     "shell.execute_reply": "2025-10-06T18:45:22.185801Z"
    },
    "papermill": {
     "duration": 0.014953,
     "end_time": "2025-10-06T18:45:22.187804",
     "exception": false,
     "start_time": "2025-10-06T18:45:22.172851",
     "status": "completed"
    },
    "tags": []
   },
   "outputs": [],
   "source": [
    "train_dataset_fcnn = TensorDataset(X_train_tensor, y_train_tensor)\n",
    "test_dataset_fcnn = TensorDataset(X_test_tensor, y_test_tensor)\n",
    "\n",
    "train_loader_fcnn = DataLoader(train_dataset_fcnn, batch_size=32, shuffle=True)\n",
    "test_loader_fcnn = DataLoader(test_dataset_fcnn, batch_size=32, shuffle=False)\n"
   ]
  },
  {
   "cell_type": "code",
   "execution_count": 12,
   "id": "7bf7a196",
   "metadata": {
    "execution": {
     "iopub.execute_input": "2025-10-06T18:45:22.199702Z",
     "iopub.status.busy": "2025-10-06T18:45:22.199391Z",
     "iopub.status.idle": "2025-10-06T18:45:22.205210Z",
     "shell.execute_reply": "2025-10-06T18:45:22.204299Z"
    },
    "papermill": {
     "duration": 0.013377,
     "end_time": "2025-10-06T18:45:22.206460",
     "exception": false,
     "start_time": "2025-10-06T18:45:22.193083",
     "status": "completed"
    },
    "tags": []
   },
   "outputs": [],
   "source": [
    "class FCNN(nn.Module):\n",
    "    def __init__(self, input_dim, hidden_dim, output_dim):\n",
    "        super(FCNN, self).__init__()\n",
    "        self.fc1 = nn.Linear(input_dim, hidden_dim)\n",
    "        self.relu = nn.ReLU()\n",
    "        self.fc2 = nn.Linear(hidden_dim, hidden_dim)\n",
    "        self.fc3 = nn.Linear(hidden_dim, output_dim)\n",
    "    \n",
    "    def forward(self, x):\n",
    "        x = self.fc1(x)\n",
    "        x = self.relu(x)\n",
    "        x = self.fc2(x)\n",
    "        x = self.relu(x)\n",
    "        x = self.fc3(x)\n",
    "        return x"
   ]
  },
  {
   "cell_type": "code",
   "execution_count": 13,
   "id": "1fec883f",
   "metadata": {
    "execution": {
     "iopub.execute_input": "2025-10-06T18:45:22.218907Z",
     "iopub.status.busy": "2025-10-06T18:45:22.217875Z",
     "iopub.status.idle": "2025-10-06T18:45:28.824614Z",
     "shell.execute_reply": "2025-10-06T18:45:28.823615Z"
    },
    "papermill": {
     "duration": 6.614406,
     "end_time": "2025-10-06T18:45:28.826261",
     "exception": false,
     "start_time": "2025-10-06T18:45:22.211855",
     "status": "completed"
    },
    "tags": []
   },
   "outputs": [
    {
     "name": "stderr",
     "output_type": "stream",
     "text": [
      "                                                        \r"
     ]
    },
    {
     "name": "stdout",
     "output_type": "stream",
     "text": [
      "Epoch [1/10] - Train Loss: 0.6193, Test Loss: 0.5184\n"
     ]
    },
    {
     "name": "stderr",
     "output_type": "stream",
     "text": [
      "                                                        \r"
     ]
    },
    {
     "name": "stdout",
     "output_type": "stream",
     "text": [
      "Epoch [2/10] - Train Loss: 0.4695, Test Loss: 0.3695\n"
     ]
    },
    {
     "name": "stderr",
     "output_type": "stream",
     "text": [
      "                                                        \r"
     ]
    },
    {
     "name": "stdout",
     "output_type": "stream",
     "text": [
      "Epoch [3/10] - Train Loss: 0.3880, Test Loss: 0.3348\n"
     ]
    },
    {
     "name": "stderr",
     "output_type": "stream",
     "text": [
      "                                                        \r"
     ]
    },
    {
     "name": "stdout",
     "output_type": "stream",
     "text": [
      "Epoch [4/10] - Train Loss: 0.3535, Test Loss: 0.3221\n"
     ]
    },
    {
     "name": "stderr",
     "output_type": "stream",
     "text": [
      "                                                        \r"
     ]
    },
    {
     "name": "stdout",
     "output_type": "stream",
     "text": [
      "Epoch [5/10] - Train Loss: 0.3313, Test Loss: 0.3151\n"
     ]
    },
    {
     "name": "stderr",
     "output_type": "stream",
     "text": [
      "                                                        \r"
     ]
    },
    {
     "name": "stdout",
     "output_type": "stream",
     "text": [
      "Epoch [6/10] - Train Loss: 0.3199, Test Loss: 0.3106\n"
     ]
    },
    {
     "name": "stderr",
     "output_type": "stream",
     "text": [
      "                                                        \r"
     ]
    },
    {
     "name": "stdout",
     "output_type": "stream",
     "text": [
      "Epoch [7/10] - Train Loss: 0.3100, Test Loss: 0.3133\n"
     ]
    },
    {
     "name": "stderr",
     "output_type": "stream",
     "text": [
      "                                                        \r"
     ]
    },
    {
     "name": "stdout",
     "output_type": "stream",
     "text": [
      "Epoch [8/10] - Train Loss: 0.3039, Test Loss: 0.3051\n"
     ]
    },
    {
     "name": "stderr",
     "output_type": "stream",
     "text": [
      "                                                        \r"
     ]
    },
    {
     "name": "stdout",
     "output_type": "stream",
     "text": [
      "Epoch [9/10] - Train Loss: 0.2956, Test Loss: 0.3018\n"
     ]
    },
    {
     "name": "stderr",
     "output_type": "stream",
     "text": [
      "                                                         \r"
     ]
    },
    {
     "name": "stdout",
     "output_type": "stream",
     "text": [
      "Epoch [10/10] - Train Loss: 0.2879, Test Loss: 0.3017\n"
     ]
    },
    {
     "data": {
      "image/png": "[encoded data removed]",
      "text/plain": [
       "<Figure size 800x500 with 1 Axes>"
      ]
     },
     "metadata": {},
     "output_type": "display_data"
    }
   ],
   "source": [
    "fcnn = FCNN(input_dim=X_train.shape[1], hidden_dim=64, output_dim=2)\n",
    "criterion = nn.CrossEntropyLoss()\n",
    "optimizer = optim.Adam(fcnn.parameters(), lr=0.001)\n",
    "\n",
    "fcnn, train_losses, test_losses = train_model(fcnn, train_loader_fcnn, test_loader_fcnn, criterion, optimizer, num_epochs=10, device=device)"
   ]
  },
  {
   "cell_type": "code",
   "execution_count": 14,
   "id": "852bfcc4",
   "metadata": {
    "execution": {
     "iopub.execute_input": "2025-10-06T18:45:28.848272Z",
     "iopub.status.busy": "2025-10-06T18:45:28.847470Z",
     "iopub.status.idle": "2025-10-06T18:45:28.868801Z",
     "shell.execute_reply": "2025-10-06T18:45:28.867763Z"
    },
    "papermill": {
     "duration": 0.033626,
     "end_time": "2025-10-06T18:45:28.870273",
     "exception": false,
     "start_time": "2025-10-06T18:45:28.836647",
     "status": "completed"
    },
    "tags": []
   },
   "outputs": [
    {
     "name": "stdout",
     "output_type": "stream",
     "text": [
      "Accuracy: 0.8858695652173914\n",
      "Confusion Matrix:\n",
      " [[70 12]\n",
      " [ 9 93]]\n",
      "Classification Report:\n",
      "               precision    recall  f1-score   support\n",
      "\n",
      "           0       0.89      0.85      0.87        82\n",
      "           1       0.89      0.91      0.90       102\n",
      "\n",
      "    accuracy                           0.89       184\n",
      "   macro avg       0.89      0.88      0.88       184\n",
      "weighted avg       0.89      0.89      0.89       184\n",
      "\n"
     ]
    }
   ],
   "source": [
    "fcnn.eval()\n",
    "device = torch.device(\"cuda\" if torch.cuda.is_available() else \"cpu\")\n",
    "fcnn.to(device)\n",
    "\n",
    "X_test_tensor = X_test_tensor.to(device)\n",
    "y_test_tensor = y_test_tensor.to(device)\n",
    "\n",
    "with torch.no_grad():\n",
    "    outputs = fcnn(X_test_tensor)           \n",
    "    _, y_pred = torch.max(outputs, dim=1)  \n",
    "\n",
    "y_true = y_test_tensor.cpu().numpy()\n",
    "y_pred = y_pred.cpu().numpy()\n",
    "\n",
    "print(\"Accuracy:\", accuracy_score(y_true, y_pred))\n",
    "print(\"Confusion Matrix:\\n\", confusion_matrix(y_true, y_pred))\n",
    "print(\"Classification Report:\\n\", classification_report(y_true, y_pred, target_names=['0', '1']))"
   ]
  },
  {
   "cell_type": "markdown",
   "id": "f967657f",
   "metadata": {
    "papermill": {
     "duration": 0.009198,
     "end_time": "2025-10-06T18:45:28.889040",
     "exception": false,
     "start_time": "2025-10-06T18:45:28.879842",
     "status": "completed"
    },
    "tags": []
   },
   "source": [
    "# CNN"
   ]
  },
  {
   "cell_type": "code",
   "execution_count": 15,
   "id": "2ae0b7ba",
   "metadata": {
    "execution": {
     "iopub.execute_input": "2025-10-06T18:45:28.909765Z",
     "iopub.status.busy": "2025-10-06T18:45:28.909486Z",
     "iopub.status.idle": "2025-10-06T18:45:28.916382Z",
     "shell.execute_reply": "2025-10-06T18:45:28.915651Z"
    },
    "papermill": {
     "duration": 0.018533,
     "end_time": "2025-10-06T18:45:28.917748",
     "exception": false,
     "start_time": "2025-10-06T18:45:28.899215",
     "status": "completed"
    },
    "tags": []
   },
   "outputs": [],
   "source": [
    "X_train_tensor = torch.tensor(X_train.values, dtype=torch.float32).unsqueeze(1)  \n",
    "X_test_tensor  = torch.tensor(X_test.values, dtype=torch.float32).unsqueeze(1)  \n",
    "y_train_tensor = torch.tensor(y_train.values, dtype=torch.long)\n",
    "y_test_tensor  = torch.tensor(y_test.values, dtype=torch.long)\n",
    "\n",
    "train_loader_cnn = DataLoader(TensorDataset(X_train_tensor, y_train_tensor), batch_size=32, shuffle=True)\n",
    "test_loader_cnn  = DataLoader(TensorDataset(X_test_tensor, y_test_tensor), batch_size=32, shuffle=False)"
   ]
  },
  {
   "cell_type": "code",
   "execution_count": 16,
   "id": "abbe60cb",
   "metadata": {
    "execution": {
     "iopub.execute_input": "2025-10-06T18:45:28.938252Z",
     "iopub.status.busy": "2025-10-06T18:45:28.937871Z",
     "iopub.status.idle": "2025-10-06T18:45:28.944812Z",
     "shell.execute_reply": "2025-10-06T18:45:28.943820Z"
    },
    "papermill": {
     "duration": 0.018976,
     "end_time": "2025-10-06T18:45:28.946292",
     "exception": false,
     "start_time": "2025-10-06T18:45:28.927316",
     "status": "completed"
    },
    "tags": []
   },
   "outputs": [],
   "source": [
    "class CNN(nn.Module):\n",
    "    def __init__(self, input_dim, num_classes):\n",
    "        super(CNN, self).__init__()\n",
    "        self.conv1 = nn.Conv1d(1, 16, kernel_size=3, padding=1)\n",
    "        self.conv2 = nn.Conv1d(16, 32, kernel_size=3, padding=1)\n",
    "        self.conv3 = nn.Conv1d(32, 64, kernel_size=3, padding=1)\n",
    "        self.relu = nn.ReLU()\n",
    "        self.pool = nn.AdaptiveAvgPool1d(1)\n",
    "        self.fc = nn.Linear(64, num_classes)\n",
    "\n",
    "    def forward(self, x):\n",
    "        # x shape: [batch, 1, num_features]\n",
    "        x = self.relu(self.conv1(x))\n",
    "        x = self.relu(self.conv2(x))\n",
    "        x = self.relu(self.conv3(x))\n",
    "        x = self.pool(x)              # [batch, 64, 1]\n",
    "        x = x.view(x.size(0), -1)     # flatten -> [batch, 64]\n",
    "        x = self.fc(x)\n",
    "        return x\n"
   ]
  },
  {
   "cell_type": "code",
   "execution_count": 17,
   "id": "b4e764df",
   "metadata": {
    "execution": {
     "iopub.execute_input": "2025-10-06T18:45:28.966944Z",
     "iopub.status.busy": "2025-10-06T18:45:28.966129Z",
     "iopub.status.idle": "2025-10-06T18:45:31.310482Z",
     "shell.execute_reply": "2025-10-06T18:45:31.309452Z"
    },
    "papermill": {
     "duration": 2.356018,
     "end_time": "2025-10-06T18:45:31.312069",
     "exception": false,
     "start_time": "2025-10-06T18:45:28.956051",
     "status": "completed"
    },
    "tags": []
   },
   "outputs": [
    {
     "name": "stderr",
     "output_type": "stream",
     "text": [
      "                                                        \r"
     ]
    },
    {
     "name": "stdout",
     "output_type": "stream",
     "text": [
      "Epoch [1/20] - Train Loss: 0.6804, Test Loss: 0.6662\n"
     ]
    },
    {
     "name": "stderr",
     "output_type": "stream",
     "text": [
      "                                                        \r"
     ]
    },
    {
     "name": "stdout",
     "output_type": "stream",
     "text": [
      "Epoch [2/20] - Train Loss: 0.6615, Test Loss: 0.6311\n"
     ]
    },
    {
     "name": "stderr",
     "output_type": "stream",
     "text": [
      "                                                        \r"
     ]
    },
    {
     "name": "stdout",
     "output_type": "stream",
     "text": [
      "Epoch [3/20] - Train Loss: 0.6287, Test Loss: 0.5840\n"
     ]
    },
    {
     "name": "stderr",
     "output_type": "stream",
     "text": [
      "                                                        \r"
     ]
    },
    {
     "name": "stdout",
     "output_type": "stream",
     "text": [
      "Epoch [4/20] - Train Loss: 0.5816, Test Loss: 0.5355\n"
     ]
    },
    {
     "name": "stderr",
     "output_type": "stream",
     "text": [
      "                                                        \r"
     ]
    },
    {
     "name": "stdout",
     "output_type": "stream",
     "text": [
      "Epoch [5/20] - Train Loss: 0.5443, Test Loss: 0.5047\n"
     ]
    },
    {
     "name": "stderr",
     "output_type": "stream",
     "text": [
      "                                                        \r"
     ]
    },
    {
     "name": "stdout",
     "output_type": "stream",
     "text": [
      "Epoch [6/20] - Train Loss: 0.5241, Test Loss: 0.5016\n"
     ]
    },
    {
     "name": "stderr",
     "output_type": "stream",
     "text": [
      "                                                        \r"
     ]
    },
    {
     "name": "stdout",
     "output_type": "stream",
     "text": [
      "Epoch [7/20] - Train Loss: 0.5226, Test Loss: 0.5121\n"
     ]
    },
    {
     "name": "stderr",
     "output_type": "stream",
     "text": [
      "                                                        \r"
     ]
    },
    {
     "name": "stdout",
     "output_type": "stream",
     "text": [
      "Epoch [8/20] - Train Loss: 0.5062, Test Loss: 0.4894\n"
     ]
    },
    {
     "name": "stderr",
     "output_type": "stream",
     "text": [
      "                                                        \r"
     ]
    },
    {
     "name": "stdout",
     "output_type": "stream",
     "text": [
      "Epoch [9/20] - Train Loss: 0.5010, Test Loss: 0.4755\n"
     ]
    },
    {
     "name": "stderr",
     "output_type": "stream",
     "text": [
      "                                                         \r"
     ]
    },
    {
     "name": "stdout",
     "output_type": "stream",
     "text": [
      "Epoch [10/20] - Train Loss: 0.4914, Test Loss: 0.4652\n"
     ]
    },
    {
     "name": "stderr",
     "output_type": "stream",
     "text": [
      "                                                         \r"
     ]
    },
    {
     "name": "stdout",
     "output_type": "stream",
     "text": [
      "Epoch [11/20] - Train Loss: 0.4837, Test Loss: 0.4667\n"
     ]
    },
    {
     "name": "stderr",
     "output_type": "stream",
     "text": [
      "                                                         \r"
     ]
    },
    {
     "name": "stdout",
     "output_type": "stream",
     "text": [
      "Epoch [12/20] - Train Loss: 0.4738, Test Loss: 0.4661\n"
     ]
    },
    {
     "name": "stderr",
     "output_type": "stream",
     "text": [
      "                                                         \r"
     ]
    },
    {
     "name": "stdout",
     "output_type": "stream",
     "text": [
      "Epoch [13/20] - Train Loss: 0.4779, Test Loss: 0.4639\n"
     ]
    },
    {
     "name": "stderr",
     "output_type": "stream",
     "text": [
      "                                                         \r"
     ]
    },
    {
     "name": "stdout",
     "output_type": "stream",
     "text": [
      "Epoch [14/20] - Train Loss: 0.4712, Test Loss: 0.4347\n"
     ]
    },
    {
     "name": "stderr",
     "output_type": "stream",
     "text": [
      "                                                         \r"
     ]
    },
    {
     "name": "stdout",
     "output_type": "stream",
     "text": [
      "Epoch [15/20] - Train Loss: 0.4678, Test Loss: 0.4349\n"
     ]
    },
    {
     "name": "stderr",
     "output_type": "stream",
     "text": [
      "                                                         \r"
     ]
    },
    {
     "name": "stdout",
     "output_type": "stream",
     "text": [
      "Epoch [16/20] - Train Loss: 0.4502, Test Loss: 0.4274\n"
     ]
    },
    {
     "name": "stderr",
     "output_type": "stream",
     "text": [
      "                                                         \r"
     ]
    },
    {
     "name": "stdout",
     "output_type": "stream",
     "text": [
      "Epoch [17/20] - Train Loss: 0.4372, Test Loss: 0.4218\n"
     ]
    },
    {
     "name": "stderr",
     "output_type": "stream",
     "text": [
      "                                                         \r"
     ]
    },
    {
     "name": "stdout",
     "output_type": "stream",
     "text": [
      "Epoch [18/20] - Train Loss: 0.4310, Test Loss: 0.4159\n"
     ]
    },
    {
     "name": "stderr",
     "output_type": "stream",
     "text": [
      "                                                         \r"
     ]
    },
    {
     "name": "stdout",
     "output_type": "stream",
     "text": [
      "Epoch [19/20] - Train Loss: 0.4210, Test Loss: 0.4034\n"
     ]
    },
    {
     "name": "stderr",
     "output_type": "stream",
     "text": [
      "                                                         \r"
     ]
    },
    {
     "name": "stdout",
     "output_type": "stream",
     "text": [
      "Epoch [20/20] - Train Loss: 0.4172, Test Loss: 0.4056\n"
     ]
    },
    {
     "data": {
      "image/png": "[encoded data removed]",
      "text/plain": [
       "<Figure size 800x500 with 1 Axes>"
      ]
     },
     "metadata": {},
     "output_type": "display_data"
    }
   ],
   "source": [
    "device = torch.device(\"cuda\" if torch.cuda.is_available() else \"cpu\")\n",
    "cnn = CNN(input_dim=X_train.shape[1], num_classes=len(y.unique()))\n",
    "cnn.to(device)\n",
    "\n",
    "criterion = nn.CrossEntropyLoss()\n",
    "optimizer = optim.Adam(cnn.parameters(), lr=0.001)\n",
    "\n",
    "cnn, train_losses, test_losses = train_model(cnn, train_loader_cnn, test_loader_cnn, criterion, optimizer, num_epochs=20, device=device)"
   ]
  },
  {
   "cell_type": "code",
   "execution_count": 18,
   "id": "84b06441",
   "metadata": {
    "execution": {
     "iopub.execute_input": "2025-10-06T18:45:31.348524Z",
     "iopub.status.busy": "2025-10-06T18:45:31.348213Z",
     "iopub.status.idle": "2025-10-06T18:45:31.367201Z",
     "shell.execute_reply": "2025-10-06T18:45:31.366191Z"
    },
    "papermill": {
     "duration": 0.038626,
     "end_time": "2025-10-06T18:45:31.368616",
     "exception": false,
     "start_time": "2025-10-06T18:45:31.329990",
     "status": "completed"
    },
    "tags": []
   },
   "outputs": [
    {
     "name": "stdout",
     "output_type": "stream",
     "text": [
      "Accuracy: 0.8369565217391305\n",
      "Confusion Matrix:\n",
      " [[70 12]\n",
      " [18 84]]\n",
      "Classification Report:\n",
      "               precision    recall  f1-score   support\n",
      "\n",
      "           0       0.80      0.85      0.82        82\n",
      "           1       0.88      0.82      0.85       102\n",
      "\n",
      "    accuracy                           0.84       184\n",
      "   macro avg       0.84      0.84      0.84       184\n",
      "weighted avg       0.84      0.84      0.84       184\n",
      "\n"
     ]
    }
   ],
   "source": [
    "cnn.eval()\n",
    "device = torch.device(\"cuda\" if torch.cuda.is_available() else \"cpu\")\n",
    "cnn.to(device)\n",
    "\n",
    "X_test_tensor = X_test_tensor.to(device)\n",
    "y_test_tensor = y_test_tensor.to(device)\n",
    "\n",
    "with torch.no_grad():\n",
    "    outputs = cnn(X_test_tensor)           \n",
    "    _, y_pred = torch.max(outputs, dim=1)  \n",
    "\n",
    "y_true = y_test_tensor.cpu().numpy()\n",
    "y_pred = y_pred.cpu().numpy()\n",
    "\n",
    "print(\"Accuracy:\", accuracy_score(y_true, y_pred))\n",
    "print(\"Confusion Matrix:\\n\", confusion_matrix(y_true, y_pred))\n",
    "print(\"Classification Report:\\n\", classification_report(y_true, y_pred, target_names=['0', '1']))"
   ]
  },
  {
   "cell_type": "markdown",
   "id": "9451a7b7",
   "metadata": {
    "papermill": {
     "duration": 0.016097,
     "end_time": "2025-10-06T18:45:31.401364",
     "exception": false,
     "start_time": "2025-10-06T18:45:31.385267",
     "status": "completed"
    },
    "tags": []
   },
   "source": [
    "## ResNet"
   ]
  },
  {
   "cell_type": "code",
   "execution_count": 19,
   "id": "d26e30c8",
   "metadata": {
    "execution": {
     "iopub.execute_input": "2025-10-06T18:45:31.435416Z",
     "iopub.status.busy": "2025-10-06T18:45:31.435109Z",
     "iopub.status.idle": "2025-10-06T18:45:32.116397Z",
     "shell.execute_reply": "2025-10-06T18:45:32.115391Z"
    },
    "papermill": {
     "duration": 0.700387,
     "end_time": "2025-10-06T18:45:32.118147",
     "exception": false,
     "start_time": "2025-10-06T18:45:31.417760",
     "status": "completed"
    },
    "tags": []
   },
   "outputs": [],
   "source": [
    "from torchvision.models import resnet18"
   ]
  },
  {
   "cell_type": "code",
   "execution_count": 20,
   "id": "2535ccf7",
   "metadata": {
    "execution": {
     "iopub.execute_input": "2025-10-06T18:45:32.153372Z",
     "iopub.status.busy": "2025-10-06T18:45:32.152706Z",
     "iopub.status.idle": "2025-10-06T18:45:32.159872Z",
     "shell.execute_reply": "2025-10-06T18:45:32.158947Z"
    },
    "papermill": {
     "duration": 0.026316,
     "end_time": "2025-10-06T18:45:32.161351",
     "exception": false,
     "start_time": "2025-10-06T18:45:32.135035",
     "status": "completed"
    },
    "tags": []
   },
   "outputs": [],
   "source": [
    "X_train_tensor = torch.tensor(X_train.values, dtype=torch.float32).unsqueeze(1)  # [num_samples, 1, features]\n",
    "X_test_tensor  = torch.tensor(X_test.values, dtype=torch.float32).unsqueeze(1)\n",
    "y_train_tensor = torch.tensor(y_train.values, dtype=torch.long)\n",
    "y_test_tensor  = torch.tensor(y_test.values, dtype=torch.long)\n",
    "\n",
    "train_loader = DataLoader(TensorDataset(X_train_tensor, y_train_tensor), batch_size=32, shuffle=True)\n",
    "test_loader  = DataLoader(TensorDataset(X_test_tensor, y_test_tensor), batch_size=32, shuffle=False)"
   ]
  },
  {
   "cell_type": "code",
   "execution_count": 21,
   "id": "c718d9ab",
   "metadata": {
    "execution": {
     "iopub.execute_input": "2025-10-06T18:45:32.196395Z",
     "iopub.status.busy": "2025-10-06T18:45:32.195549Z",
     "iopub.status.idle": "2025-10-06T18:45:32.201635Z",
     "shell.execute_reply": "2025-10-06T18:45:32.200696Z"
    },
    "papermill": {
     "duration": 0.025219,
     "end_time": "2025-10-06T18:45:32.203229",
     "exception": false,
     "start_time": "2025-10-06T18:45:32.178010",
     "status": "completed"
    },
    "tags": []
   },
   "outputs": [],
   "source": [
    "class ResNet(nn.Module):\n",
    "    def __init__(self, num_features, num_classes):\n",
    "        super(ResNet, self).__init__()\n",
    "        # Load pretrained ResNet18\n",
    "        self.model = resnet18(weights=None)  # weights=None for training from scratch\n",
    "        # Change input channels to 1 instead of 3\n",
    "        self.model.conv1 = nn.Conv2d(1, 64, kernel_size=7, stride=2, padding=3, bias=False)\n",
    "        # Replace final FC layer to match number of classes\n",
    "        self.model.fc = nn.Linear(self.model.fc.in_features, num_classes)\n",
    "\n",
    "    def forward(self, x):\n",
    "        # x shape: [batch, 1, features] -> reshape to [batch, 1, H, W] for ResNet\n",
    "        x = x.unsqueeze(-1)  # [batch, 1, features, 1]\n",
    "        return self.model(x)"
   ]
  },
  {
   "cell_type": "code",
   "execution_count": 22,
   "id": "e3d1d9ec",
   "metadata": {
    "execution": {
     "iopub.execute_input": "2025-10-06T18:45:32.237477Z",
     "iopub.status.busy": "2025-10-06T18:45:32.237177Z",
     "iopub.status.idle": "2025-10-06T18:45:32.445866Z",
     "shell.execute_reply": "2025-10-06T18:45:32.445006Z"
    },
    "papermill": {
     "duration": 0.227819,
     "end_time": "2025-10-06T18:45:32.447552",
     "exception": false,
     "start_time": "2025-10-06T18:45:32.219733",
     "status": "completed"
    },
    "tags": []
   },
   "outputs": [],
   "source": [
    "device = torch.device(\"cuda\" if torch.cuda.is_available() else \"cpu\")\n",
    "num_classes = len(y.unique())\n",
    "model = ResNet(num_features=X_train.shape[1], num_classes=num_classes)\n",
    "model.to(device)\n",
    "\n",
    "criterion = nn.CrossEntropyLoss()\n",
    "optimizer = optim.Adam(model.parameters(), lr=0.001)"
   ]
  },
  {
   "cell_type": "code",
   "execution_count": 23,
   "id": "4975d27b",
   "metadata": {
    "execution": {
     "iopub.execute_input": "2025-10-06T18:45:32.482038Z",
     "iopub.status.busy": "2025-10-06T18:45:32.481697Z",
     "iopub.status.idle": "2025-10-06T18:46:18.143663Z",
     "shell.execute_reply": "2025-10-06T18:46:18.142680Z"
    },
    "papermill": {
     "duration": 45.680936,
     "end_time": "2025-10-06T18:46:18.145219",
     "exception": false,
     "start_time": "2025-10-06T18:45:32.464283",
     "status": "completed"
    },
    "tags": []
   },
   "outputs": [
    {
     "name": "stderr",
     "output_type": "stream",
     "text": [
      "                                                                \r"
     ]
    },
    {
     "name": "stdout",
     "output_type": "stream",
     "text": [
      "Epoch [1/30] - Train Loss: 0.7287, Test Loss: 0.6081\n"
     ]
    },
    {
     "name": "stderr",
     "output_type": "stream",
     "text": [
      "                                                                \r"
     ]
    },
    {
     "name": "stdout",
     "output_type": "stream",
     "text": [
      "Epoch [2/30] - Train Loss: 0.4264, Test Loss: 0.3794\n"
     ]
    },
    {
     "name": "stderr",
     "output_type": "stream",
     "text": [
      "                                                                \r"
     ]
    },
    {
     "name": "stdout",
     "output_type": "stream",
     "text": [
      "Epoch [3/30] - Train Loss: 0.3175, Test Loss: 0.3641\n"
     ]
    },
    {
     "name": "stderr",
     "output_type": "stream",
     "text": [
      "                                                                \r"
     ]
    },
    {
     "name": "stdout",
     "output_type": "stream",
     "text": [
      "Epoch [4/30] - Train Loss: 0.2885, Test Loss: 0.4482\n"
     ]
    },
    {
     "name": "stderr",
     "output_type": "stream",
     "text": [
      "                                                                \r"
     ]
    },
    {
     "name": "stdout",
     "output_type": "stream",
     "text": [
      "Epoch [5/30] - Train Loss: 0.2376, Test Loss: 0.4478\n"
     ]
    },
    {
     "name": "stderr",
     "output_type": "stream",
     "text": [
      "                                                                \r"
     ]
    },
    {
     "name": "stdout",
     "output_type": "stream",
     "text": [
      "Epoch [6/30] - Train Loss: 0.2333, Test Loss: 0.5183\n"
     ]
    },
    {
     "name": "stderr",
     "output_type": "stream",
     "text": [
      "                                                                \r"
     ]
    },
    {
     "name": "stdout",
     "output_type": "stream",
     "text": [
      "Epoch [7/30] - Train Loss: 0.2195, Test Loss: 0.5515\n"
     ]
    },
    {
     "name": "stderr",
     "output_type": "stream",
     "text": [
      "                                                                \r"
     ]
    },
    {
     "name": "stdout",
     "output_type": "stream",
     "text": [
      "Epoch [8/30] - Train Loss: 0.1920, Test Loss: 0.5567\n",
      "Early stopping at epoch 8\n"
     ]
    },
    {
     "data": {
      "image/png": "[encoded data removed]",
      "text/plain": [
       "<Figure size 800x500 with 1 Axes>"
      ]
     },
     "metadata": {},
     "output_type": "display_data"
    }
   ],
   "source": [
    "resnet, train_losses, test_losses = train_model(\n",
    "    model, train_loader, test_loader, criterion, optimizer, num_epochs=30, device=device, patience=5\n",
    ")"
   ]
  },
  {
   "cell_type": "code",
   "execution_count": 24,
   "id": "01b6772d",
   "metadata": {
    "execution": {
     "iopub.execute_input": "2025-10-06T18:46:18.205154Z",
     "iopub.status.busy": "2025-10-06T18:46:18.204267Z",
     "iopub.status.idle": "2025-10-06T18:46:18.322598Z",
     "shell.execute_reply": "2025-10-06T18:46:18.321429Z"
    },
    "papermill": {
     "duration": 0.150003,
     "end_time": "2025-10-06T18:46:18.324312",
     "exception": false,
     "start_time": "2025-10-06T18:46:18.174309",
     "status": "completed"
    },
    "tags": []
   },
   "outputs": [
    {
     "name": "stdout",
     "output_type": "stream",
     "text": [
      "Accuracy: 0.8695652173913043\n",
      "Confusion Matrix:\n",
      " [[74  8]\n",
      " [16 86]]\n",
      "Classification Report:\n",
      "               precision    recall  f1-score   support\n",
      "\n",
      "           0       0.82      0.90      0.86        82\n",
      "           1       0.91      0.84      0.88       102\n",
      "\n",
      "    accuracy                           0.87       184\n",
      "   macro avg       0.87      0.87      0.87       184\n",
      "weighted avg       0.87      0.87      0.87       184\n",
      "\n"
     ]
    }
   ],
   "source": [
    "resnet.eval()\n",
    "device = torch.device(\"cuda\" if torch.cuda.is_available() else \"cpu\")\n",
    "resnet.to(device)\n",
    "\n",
    "X_test_tensor = X_test_tensor.to(device)\n",
    "y_test_tensor = y_test_tensor.to(device)\n",
    "\n",
    "with torch.no_grad():\n",
    "    outputs = resnet(X_test_tensor)           \n",
    "    _, y_pred = torch.max(outputs, dim=1)  \n",
    "\n",
    "y_true = y_test_tensor.cpu().numpy()\n",
    "y_pred = y_pred.cpu().numpy()\n",
    "\n",
    "print(\"Accuracy:\", accuracy_score(y_true, y_pred))\n",
    "print(\"Confusion Matrix:\\n\", confusion_matrix(y_true, y_pred))\n",
    "print(\"Classification Report:\\n\", classification_report(y_true, y_pred, target_names=['0', '1']))"
   ]
  },
  {
   "cell_type": "code",
   "execution_count": null,
   "id": "417bdd13",
   "metadata": {
    "papermill": {
     "duration": 0.028692,
     "end_time": "2025-10-06T18:46:18.382089",
     "exception": false,
     "start_time": "2025-10-06T18:46:18.353397",
     "status": "completed"
    },
    "tags": []
   },
   "outputs": [],
   "source": []
  }
 ],
 "metadata": {
  "kaggle": {
   "accelerator": "none",
   "dataSources": [
    {
     "datasetId": 1582403,
     "sourceId": 2603715,
     "sourceType": "datasetVersion"
    }
   ],
   "dockerImageVersionId": 31153,
   "isGpuEnabled": false,
   "isInternetEnabled": true,
   "language": "python",
   "sourceType": "notebook"
  },
  "kernelspec": {
   "display_name": "Python 3",
   "language": "python",
   "name": "python3"
  },
  "language_info": {
   "codemirror_mode": {
    "name": "ipython",
    "version": 3
   },
   "file_extension": ".py",
   "mimetype": "text/x-python",
   "name": "python",
   "nbconvert_exporter": "python",
   "pygments_lexer": "ipython3",
   "version": "3.11.13"
  },
  "papermill": {
   "default_parameters": {},
   "duration": 70.865236,
   "end_time": "2025-10-06T18:46:20.336409",
   "environment_variables": {},
   "exception": null,
   "input_path": "__notebook__.ipynb",
   "output_path": "__notebook__.ipynb",
   "parameters": {},
   "start_time": "2025-10-06T18:45:09.471173",
   "version": "2.6.0"
  }
 },
 "nbformat": 4,
 "nbformat_minor": 5
}
