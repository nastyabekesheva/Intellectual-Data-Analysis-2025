{
 "cells": [
  {
   "cell_type": "code",
   "execution_count": 1,
   "id": "05acff89",
   "metadata": {
    "execution": {
     "iopub.execute_input": "2025-10-06T19:49:21.150257Z",
     "iopub.status.busy": "2025-10-06T19:49:21.149963Z",
     "iopub.status.idle": "2025-10-06T19:49:21.156313Z",
     "shell.execute_reply": "2025-10-06T19:49:21.155587Z"
    },
    "papermill": {
     "duration": 0.014309,
     "end_time": "2025-10-06T19:49:21.157487",
     "exception": false,
     "start_time": "2025-10-06T19:49:21.143178",
     "status": "completed"
    },
    "tags": []
   },
   "outputs": [],
   "source": [
    "import warnings\n",
    "warnings.filterwarnings('ignore')"
   ]
  },
  {
   "cell_type": "code",
   "execution_count": 2,
   "id": "85ef0940",
   "metadata": {
    "_cell_guid": "b1076dfc-b9ad-4769-8c92-a6c4dae69d19",
    "_uuid": "8f2839f25d086af736a60e9eeb907d3b93b6e0e5",
    "execution": {
     "iopub.execute_input": "2025-10-06T19:49:21.167862Z",
     "iopub.status.busy": "2025-10-06T19:49:21.167532Z",
     "iopub.status.idle": "2025-10-06T19:49:30.262680Z",
     "shell.execute_reply": "2025-10-06T19:49:30.261945Z"
    },
    "papermill": {
     "duration": 9.101892,
     "end_time": "2025-10-06T19:49:30.264315",
     "exception": false,
     "start_time": "2025-10-06T19:49:21.162423",
     "status": "completed"
    },
    "tags": []
   },
   "outputs": [],
   "source": [
    "import pandas as pd\n",
    "import nltk\n",
    "import re\n",
    "from nltk.tokenize import word_tokenize\n",
    "from nltk.corpus import stopwords\n",
    "from nltk.stem import PorterStemmer\n",
    "from nltk.stem import WordNetLemmatizer\n",
    "import matplotlib.pyplot as plt\n",
    "from wordcloud import WordCloud\n",
    "import seaborn as sns\n",
    "import numpy as np\n",
    "\n",
    "from sklearn.model_selection import train_test_split\n",
    "from sklearn.metrics import classification_report, confusion_matrix\n",
    "\n",
    "import torch\n",
    "import torch.nn as nn\n",
    "from torch.utils.data import Dataset, DataLoader\n",
    "from sklearn.preprocessing import LabelEncoder\n",
    "from torch.nn.utils.rnn import pad_sequence\n",
    "\n",
    "from tqdm import tqdm\n",
    "import matplotlib.pyplot as plt\n",
    "from sklearn.metrics import accuracy_score, confusion_matrix, classification_report"
   ]
  },
  {
   "cell_type": "code",
   "execution_count": 3,
   "id": "ae2a3576",
   "metadata": {
    "execution": {
     "iopub.execute_input": "2025-10-06T19:49:30.275506Z",
     "iopub.status.busy": "2025-10-06T19:49:30.275030Z",
     "iopub.status.idle": "2025-10-06T19:49:30.511375Z",
     "shell.execute_reply": "2025-10-06T19:49:30.510208Z"
    },
    "papermill": {
     "duration": 0.243234,
     "end_time": "2025-10-06T19:49:30.512609",
     "exception": false,
     "start_time": "2025-10-06T19:49:30.269375",
     "status": "completed"
    },
    "tags": []
   },
   "outputs": [
    {
     "name": "stderr",
     "output_type": "stream",
     "text": [
      "[nltk_data] Downloading package punkt to /usr/share/nltk_data...\n",
      "[nltk_data]   Package punkt is already up-to-date!\n",
      "[nltk_data] Downloading package stopwords to /usr/share/nltk_data...\n",
      "[nltk_data]   Package stopwords is already up-to-date!\n",
      "[nltk_data] Downloading package wordnet to /usr/share/nltk_data...\n",
      "[nltk_data]   Package wordnet is already up-to-date!\n"
     ]
    },
    {
     "data": {
      "text/plain": [
       "True"
      ]
     },
     "execution_count": 3,
     "metadata": {},
     "output_type": "execute_result"
    }
   ],
   "source": [
    "nltk.download('punkt')\n",
    "nltk.download('stopwords')\n",
    "nltk.download('wordnet')"
   ]
  },
  {
   "cell_type": "markdown",
   "id": "dd41dfec",
   "metadata": {
    "papermill": {
     "duration": 0.0041,
     "end_time": "2025-10-06T19:49:30.521363",
     "exception": false,
     "start_time": "2025-10-06T19:49:30.517263",
     "status": "completed"
    },
    "tags": []
   },
   "source": [
    "## Load & pre-proccess data"
   ]
  },
  {
   "cell_type": "code",
   "execution_count": 4,
   "id": "b58a37c9",
   "metadata": {
    "execution": {
     "iopub.execute_input": "2025-10-06T19:49:30.532113Z",
     "iopub.status.busy": "2025-10-06T19:49:30.531090Z",
     "iopub.status.idle": "2025-10-06T19:49:30.580546Z",
     "shell.execute_reply": "2025-10-06T19:49:30.579786Z"
    },
    "papermill": {
     "duration": 0.056241,
     "end_time": "2025-10-06T19:49:30.581926",
     "exception": false,
     "start_time": "2025-10-06T19:49:30.525685",
     "status": "completed"
    },
    "tags": []
   },
   "outputs": [
    {
     "data": {
      "text/html": [
       "<div>\n",
       "<style scoped>\n",
       "    .dataframe tbody tr th:only-of-type {\n",
       "        vertical-align: middle;\n",
       "    }\n",
       "\n",
       "    .dataframe tbody tr th {\n",
       "        vertical-align: top;\n",
       "    }\n",
       "\n",
       "    .dataframe thead th {\n",
       "        text-align: right;\n",
       "    }\n",
       "</style>\n",
       "<table border=\"1\" class=\"dataframe\">\n",
       "  <thead>\n",
       "    <tr style=\"text-align: right;\">\n",
       "      <th></th>\n",
       "      <th>Comment</th>\n",
       "      <th>Sentiment</th>\n",
       "    </tr>\n",
       "  </thead>\n",
       "  <tbody>\n",
       "    <tr>\n",
       "      <th>0</th>\n",
       "      <td>Achieving million views in days is dangerous</td>\n",
       "      <td>Positive</td>\n",
       "    </tr>\n",
       "    <tr>\n",
       "      <th>1</th>\n",
       "      <td>How many people here want to participate in su...</td>\n",
       "      <td>Neutral</td>\n",
       "    </tr>\n",
       "    <tr>\n",
       "      <th>2</th>\n",
       "      <td>Mrbeast is slowly turning into mrjigsaw</td>\n",
       "      <td>Negative</td>\n",
       "    </tr>\n",
       "    <tr>\n",
       "      <th>3</th>\n",
       "      <td>genuinely can't believe how dystopian this is</td>\n",
       "      <td>Negative</td>\n",
       "    </tr>\n",
       "    <tr>\n",
       "      <th>4</th>\n",
       "      <td>Have of the worlds smartest people compete in ...</td>\n",
       "      <td>Neutral</td>\n",
       "    </tr>\n",
       "  </tbody>\n",
       "</table>\n",
       "</div>"
      ],
      "text/plain": [
       "                                             Comment Sentiment\n",
       "0       Achieving million views in days is dangerous  Positive\n",
       "1  How many people here want to participate in su...   Neutral\n",
       "2            Mrbeast is slowly turning into mrjigsaw  Negative\n",
       "3      genuinely can't believe how dystopian this is  Negative\n",
       "4  Have of the worlds smartest people compete in ...   Neutral"
      ]
     },
     "execution_count": 4,
     "metadata": {},
     "output_type": "execute_result"
    }
   ],
   "source": [
    "df = pd.read_csv(\"/kaggle/input/mrbeast-youtube-comment-sentiment-analysis/sentiment_analysis_dataset.csv\", sep=',', quotechar='\"', engine='python', on_bad_lines='skip')\n",
    "df.head()"
   ]
  },
  {
   "cell_type": "code",
   "execution_count": 5,
   "id": "7fc9d93a",
   "metadata": {
    "execution": {
     "iopub.execute_input": "2025-10-06T19:49:30.592851Z",
     "iopub.status.busy": "2025-10-06T19:49:30.592554Z",
     "iopub.status.idle": "2025-10-06T19:49:30.606001Z",
     "shell.execute_reply": "2025-10-06T19:49:30.605142Z"
    },
    "papermill": {
     "duration": 0.020058,
     "end_time": "2025-10-06T19:49:30.607096",
     "exception": false,
     "start_time": "2025-10-06T19:49:30.587038",
     "status": "completed"
    },
    "tags": []
   },
   "outputs": [
    {
     "name": "stdout",
     "output_type": "stream",
     "text": [
      "\n",
      "After dropping missing comments:\n",
      "Comment      0\n",
      "Sentiment    0\n",
      "dtype: int64\n"
     ]
    }
   ],
   "source": [
    "df = df.dropna(subset=['Comment'])\n",
    "print(\"\\nAfter dropping missing comments:\")\n",
    "print(df.isnull().sum())"
   ]
  },
  {
   "cell_type": "code",
   "execution_count": 6,
   "id": "b3dbcab0",
   "metadata": {
    "execution": {
     "iopub.execute_input": "2025-10-06T19:49:30.617679Z",
     "iopub.status.busy": "2025-10-06T19:49:30.617402Z",
     "iopub.status.idle": "2025-10-06T19:49:30.624122Z",
     "shell.execute_reply": "2025-10-06T19:49:30.623355Z"
    },
    "papermill": {
     "duration": 0.013366,
     "end_time": "2025-10-06T19:49:30.625406",
     "exception": false,
     "start_time": "2025-10-06T19:49:30.612040",
     "status": "completed"
    },
    "tags": []
   },
   "outputs": [],
   "source": [
    "stop_words = set(stopwords.words('english'))\n",
    "stemmer = PorterStemmer()\n",
    "lemmatizer = WordNetLemmatizer()"
   ]
  },
  {
   "cell_type": "code",
   "execution_count": 7,
   "id": "bcbcaa88",
   "metadata": {
    "execution": {
     "iopub.execute_input": "2025-10-06T19:49:30.636330Z",
     "iopub.status.busy": "2025-10-06T19:49:30.636032Z",
     "iopub.status.idle": "2025-10-06T19:49:30.641398Z",
     "shell.execute_reply": "2025-10-06T19:49:30.640658Z"
    },
    "papermill": {
     "duration": 0.012055,
     "end_time": "2025-10-06T19:49:30.642587",
     "exception": false,
     "start_time": "2025-10-06T19:49:30.630532",
     "status": "completed"
    },
    "tags": []
   },
   "outputs": [],
   "source": [
    "def preprocess_text(text):\n",
    "    text = text.lower()\n",
    "    text = re.sub(r'[^a-z\\s]', '', text)\n",
    "    tokens = word_tokenize(text)\n",
    "    tokens = [word for word in tokens if word not in stop_words]\n",
    "    tokens = [stemmer.stem(word) for word in tokens]\n",
    "    tokens = [lemmatizer.lemmatize(word) for word in tokens]\n",
    "    return ' '.join(tokens)"
   ]
  },
  {
   "cell_type": "code",
   "execution_count": 8,
   "id": "f6fe0922",
   "metadata": {
    "execution": {
     "iopub.execute_input": "2025-10-06T19:49:30.653344Z",
     "iopub.status.busy": "2025-10-06T19:49:30.653095Z",
     "iopub.status.idle": "2025-10-06T19:49:33.748106Z",
     "shell.execute_reply": "2025-10-06T19:49:33.747122Z"
    },
    "papermill": {
     "duration": 3.101906,
     "end_time": "2025-10-06T19:49:33.749580",
     "exception": false,
     "start_time": "2025-10-06T19:49:30.647674",
     "status": "completed"
    },
    "tags": []
   },
   "outputs": [
    {
     "data": {
      "text/html": [
       "<div>\n",
       "<style scoped>\n",
       "    .dataframe tbody tr th:only-of-type {\n",
       "        vertical-align: middle;\n",
       "    }\n",
       "\n",
       "    .dataframe tbody tr th {\n",
       "        vertical-align: top;\n",
       "    }\n",
       "\n",
       "    .dataframe thead th {\n",
       "        text-align: right;\n",
       "    }\n",
       "</style>\n",
       "<table border=\"1\" class=\"dataframe\">\n",
       "  <thead>\n",
       "    <tr style=\"text-align: right;\">\n",
       "      <th></th>\n",
       "      <th>Comment</th>\n",
       "      <th>Sentiment</th>\n",
       "      <th>ProcessedComments</th>\n",
       "    </tr>\n",
       "  </thead>\n",
       "  <tbody>\n",
       "    <tr>\n",
       "      <th>0</th>\n",
       "      <td>Achieving million views in days is dangerous</td>\n",
       "      <td>Positive</td>\n",
       "      <td>achiev million view day danger</td>\n",
       "    </tr>\n",
       "    <tr>\n",
       "      <th>1</th>\n",
       "      <td>How many people here want to participate in su...</td>\n",
       "      <td>Neutral</td>\n",
       "      <td>mani peopl want particip challeng</td>\n",
       "    </tr>\n",
       "    <tr>\n",
       "      <th>2</th>\n",
       "      <td>Mrbeast is slowly turning into mrjigsaw</td>\n",
       "      <td>Negative</td>\n",
       "      <td>mrbeast slowli turn mrjigsaw</td>\n",
       "    </tr>\n",
       "    <tr>\n",
       "      <th>3</th>\n",
       "      <td>genuinely can't believe how dystopian this is</td>\n",
       "      <td>Negative</td>\n",
       "      <td>genuin cant believ dystopian</td>\n",
       "    </tr>\n",
       "    <tr>\n",
       "      <th>4</th>\n",
       "      <td>Have of the worlds smartest people compete in ...</td>\n",
       "      <td>Neutral</td>\n",
       "      <td>world smartest peopl compet seri intellectu pu...</td>\n",
       "    </tr>\n",
       "  </tbody>\n",
       "</table>\n",
       "</div>"
      ],
      "text/plain": [
       "                                             Comment Sentiment  \\\n",
       "0       Achieving million views in days is dangerous  Positive   \n",
       "1  How many people here want to participate in su...   Neutral   \n",
       "2            Mrbeast is slowly turning into mrjigsaw  Negative   \n",
       "3      genuinely can't believe how dystopian this is  Negative   \n",
       "4  Have of the worlds smartest people compete in ...   Neutral   \n",
       "\n",
       "                                   ProcessedComments  \n",
       "0                     achiev million view day danger  \n",
       "1                  mani peopl want particip challeng  \n",
       "2                       mrbeast slowli turn mrjigsaw  \n",
       "3                       genuin cant believ dystopian  \n",
       "4  world smartest peopl compet seri intellectu pu...  "
      ]
     },
     "execution_count": 8,
     "metadata": {},
     "output_type": "execute_result"
    }
   ],
   "source": [
    "df['ProcessedComments'] = df['Comment'].apply(preprocess_text)\n",
    "df.head()"
   ]
  },
  {
   "cell_type": "code",
   "execution_count": 9,
   "id": "ecb7e655",
   "metadata": {
    "execution": {
     "iopub.execute_input": "2025-10-06T19:49:33.761198Z",
     "iopub.status.busy": "2025-10-06T19:49:33.760360Z",
     "iopub.status.idle": "2025-10-06T19:49:33.765328Z",
     "shell.execute_reply": "2025-10-06T19:49:33.764675Z"
    },
    "papermill": {
     "duration": 0.011723,
     "end_time": "2025-10-06T19:49:33.766591",
     "exception": false,
     "start_time": "2025-10-06T19:49:33.754868",
     "status": "completed"
    },
    "tags": []
   },
   "outputs": [],
   "source": [
    "le = LabelEncoder()\n",
    "y = le.fit_transform(df['Sentiment'])  # 0,1,2\n",
    "num_classes = len(le.classes_)"
   ]
  },
  {
   "cell_type": "code",
   "execution_count": 10,
   "id": "169c0e57",
   "metadata": {
    "execution": {
     "iopub.execute_input": "2025-10-06T19:49:33.777445Z",
     "iopub.status.busy": "2025-10-06T19:49:33.777180Z",
     "iopub.status.idle": "2025-10-06T19:49:33.788168Z",
     "shell.execute_reply": "2025-10-06T19:49:33.787229Z"
    },
    "papermill": {
     "duration": 0.017442,
     "end_time": "2025-10-06T19:49:33.789334",
     "exception": false,
     "start_time": "2025-10-06T19:49:33.771892",
     "status": "completed"
    },
    "tags": []
   },
   "outputs": [],
   "source": [
    "from collections import Counter\n",
    "token_counter = Counter()\n",
    "for comment in df['ProcessedComments']:\n",
    "    token_counter.update(comment.split())\n",
    "\n",
    "vocab = {word: idx+1 for idx, (word, _) in enumerate(token_counter.most_common())}  # 0 reserved for padding\n",
    "vocab_size = len(vocab) + 1\n",
    "\n",
    "def encode_text(text):\n",
    "    return torch.tensor([vocab.get(word, 0) for word in text.split()], dtype=torch.long)"
   ]
  },
  {
   "cell_type": "code",
   "execution_count": 11,
   "id": "eb556f19",
   "metadata": {
    "execution": {
     "iopub.execute_input": "2025-10-06T19:49:33.799764Z",
     "iopub.status.busy": "2025-10-06T19:49:33.799451Z",
     "iopub.status.idle": "2025-10-06T19:49:33.904013Z",
     "shell.execute_reply": "2025-10-06T19:49:33.903225Z"
    },
    "papermill": {
     "duration": 0.111273,
     "end_time": "2025-10-06T19:49:33.905539",
     "exception": false,
     "start_time": "2025-10-06T19:49:33.794266",
     "status": "completed"
    },
    "tags": []
   },
   "outputs": [],
   "source": [
    "X = [encode_text(text) for text in df['ProcessedComments']]\n",
    "X_padded = pad_sequence(X, batch_first=True)  \n",
    "X_train, X_test, y_train, y_test = train_test_split(X_padded, y, test_size=0.2, random_state=42, stratify=y)"
   ]
  },
  {
   "cell_type": "code",
   "execution_count": 12,
   "id": "d2434aff",
   "metadata": {
    "execution": {
     "iopub.execute_input": "2025-10-06T19:49:33.916881Z",
     "iopub.status.busy": "2025-10-06T19:49:33.916584Z",
     "iopub.status.idle": "2025-10-06T19:49:33.923809Z",
     "shell.execute_reply": "2025-10-06T19:49:33.922868Z"
    },
    "papermill": {
     "duration": 0.014102,
     "end_time": "2025-10-06T19:49:33.925296",
     "exception": false,
     "start_time": "2025-10-06T19:49:33.911194",
     "status": "completed"
    },
    "tags": []
   },
   "outputs": [],
   "source": [
    "X_train_tensor = torch.tensor(X_train, dtype=torch.long)\n",
    "X_test_tensor  = torch.tensor(X_test, dtype=torch.long)\n",
    "y_train_tensor = torch.tensor(y_train, dtype=torch.long)\n",
    "y_test_tensor  = torch.tensor(y_test, dtype=torch.long)"
   ]
  },
  {
   "cell_type": "markdown",
   "id": "b096a240",
   "metadata": {
    "papermill": {
     "duration": 0.004431,
     "end_time": "2025-10-06T19:49:33.935054",
     "exception": false,
     "start_time": "2025-10-06T19:49:33.930623",
     "status": "completed"
    },
    "tags": []
   },
   "source": [
    "## Dataset & DataLoader"
   ]
  },
  {
   "cell_type": "code",
   "execution_count": 13,
   "id": "a216a185",
   "metadata": {
    "execution": {
     "iopub.execute_input": "2025-10-06T19:49:33.945320Z",
     "iopub.status.busy": "2025-10-06T19:49:33.945075Z",
     "iopub.status.idle": "2025-10-06T19:49:33.951959Z",
     "shell.execute_reply": "2025-10-06T19:49:33.951171Z"
    },
    "papermill": {
     "duration": 0.013759,
     "end_time": "2025-10-06T19:49:33.953369",
     "exception": false,
     "start_time": "2025-10-06T19:49:33.939610",
     "status": "completed"
    },
    "tags": []
   },
   "outputs": [],
   "source": [
    "class TextDataset(Dataset):\n",
    "    def __init__(self, X, y):\n",
    "        self.X = X\n",
    "        self.y = y\n",
    "    def __len__(self):\n",
    "        return len(self.X)\n",
    "    def __getitem__(self, idx):\n",
    "        return self.X[idx], self.y[idx]\n",
    "\n",
    "train_dataset = TextDataset(X_train_tensor, y_train_tensor)\n",
    "test_dataset  = TextDataset(X_test_tensor, y_test_tensor)\n",
    "\n",
    "train_loader = DataLoader(train_dataset, batch_size=32, shuffle=True)\n",
    "test_loader  = DataLoader(test_dataset, batch_size=32)"
   ]
  },
  {
   "cell_type": "markdown",
   "id": "a82f0b35",
   "metadata": {
    "papermill": {
     "duration": 0.004441,
     "end_time": "2025-10-06T19:49:33.963026",
     "exception": false,
     "start_time": "2025-10-06T19:49:33.958585",
     "status": "completed"
    },
    "tags": []
   },
   "source": [
    "## Model"
   ]
  },
  {
   "cell_type": "code",
   "execution_count": 14,
   "id": "60781092",
   "metadata": {
    "execution": {
     "iopub.execute_input": "2025-10-06T19:49:33.975234Z",
     "iopub.status.busy": "2025-10-06T19:49:33.974988Z",
     "iopub.status.idle": "2025-10-06T19:49:33.981218Z",
     "shell.execute_reply": "2025-10-06T19:49:33.980119Z"
    },
    "papermill": {
     "duration": 0.01383,
     "end_time": "2025-10-06T19:49:33.982789",
     "exception": false,
     "start_time": "2025-10-06T19:49:33.968959",
     "status": "completed"
    },
    "tags": []
   },
   "outputs": [],
   "source": [
    "class SentimentRNN(nn.Module):\n",
    "    def __init__(self, vocab_size, embed_dim, hidden_dim, output_dim, rnn_type='LSTM', num_layers=1):\n",
    "        super(SentimentRNN, self).__init__()\n",
    "        self.embedding = nn.Embedding(vocab_size, embed_dim)\n",
    "        if rnn_type=='LSTM':\n",
    "            self.rnn = nn.LSTM(embed_dim, hidden_dim, num_layers=num_layers, batch_first=True)\n",
    "        elif rnn_type=='GRU':\n",
    "            self.rnn = nn.GRU(embed_dim, hidden_dim, num_layers=num_layers, batch_first=True)\n",
    "        else:\n",
    "            self.rnn = nn.RNN(embed_dim, hidden_dim, num_layers=num_layers, batch_first=True)\n",
    "        self.fc = nn.Linear(hidden_dim, output_dim)\n",
    "        \n",
    "    def forward(self, x):\n",
    "        x = self.embedding(x)\n",
    "        _, h_n = self.rnn(x)\n",
    "        if isinstance(h_n, tuple):  # LSTM returns (h_n, c_n)\n",
    "            h_n = h_n[0]\n",
    "        out = self.fc(h_n[-1])  # use last layer's hidden state\n",
    "        return out"
   ]
  },
  {
   "cell_type": "markdown",
   "id": "df9f6436",
   "metadata": {
    "papermill": {
     "duration": 0.004353,
     "end_time": "2025-10-06T19:49:33.992354",
     "exception": false,
     "start_time": "2025-10-06T19:49:33.988001",
     "status": "completed"
    },
    "tags": []
   },
   "source": []
  },
  {
   "cell_type": "code",
   "execution_count": 15,
   "id": "a35b0742",
   "metadata": {
    "execution": {
     "iopub.execute_input": "2025-10-06T19:49:34.003440Z",
     "iopub.status.busy": "2025-10-06T19:49:34.002424Z",
     "iopub.status.idle": "2025-10-06T19:49:34.011705Z",
     "shell.execute_reply": "2025-10-06T19:49:34.010823Z"
    },
    "papermill": {
     "duration": 0.016357,
     "end_time": "2025-10-06T19:49:34.013200",
     "exception": false,
     "start_time": "2025-10-06T19:49:33.996843",
     "status": "completed"
    },
    "tags": []
   },
   "outputs": [],
   "source": [
    "from tqdm import tqdm\n",
    "import matplotlib.pyplot as plt\n",
    "import copy\n",
    "\n",
    "def train_model(model, train_loader, test_loader, criterion, optimizer, num_epochs=20, device='cpu', patience=5):\n",
    "    model.to(device)\n",
    "    train_losses, test_losses = [], []\n",
    "    best_model_wts = copy.deepcopy(model.state_dict())\n",
    "    best_loss = float('inf')\n",
    "    epochs_no_improve = 0\n",
    "\n",
    "    for epoch in range(num_epochs):\n",
    "        model.train()\n",
    "        running_loss = 0.0\n",
    "        for inputs, labels in tqdm(train_loader, desc=f\"Epoch {epoch+1}/{num_epochs} [Train]\", leave=False):\n",
    "            inputs, labels = inputs.to(device), labels.to(device)\n",
    "            optimizer.zero_grad()\n",
    "            outputs = model(inputs)\n",
    "            loss = criterion(outputs, labels)\n",
    "            loss.backward()\n",
    "            optimizer.step()\n",
    "            running_loss += loss.item()\n",
    "        \n",
    "        train_loss = running_loss / len(train_loader)\n",
    "        train_losses.append(train_loss)\n",
    "\n",
    "        # --- Evaluation ---\n",
    "        model.eval()\n",
    "        test_loss = 0.0\n",
    "        with torch.no_grad():\n",
    "            for inputs, labels in test_loader:\n",
    "                inputs, labels = inputs.to(device), labels.to(device)\n",
    "                outputs = model(inputs)\n",
    "                loss = criterion(outputs, labels)\n",
    "                test_loss += loss.item()\n",
    "        test_loss /= len(test_loader)\n",
    "        test_losses.append(test_loss)\n",
    "\n",
    "        print(f\"Epoch [{epoch+1}/{num_epochs}] - Train Loss: {train_loss:.4f}, Test Loss: {test_loss:.4f}\")\n",
    "\n",
    "        # --- Early stopping check ---\n",
    "        if test_loss < best_loss:\n",
    "            best_loss = test_loss\n",
    "            best_model_wts = copy.deepcopy(model.state_dict())\n",
    "            epochs_no_improve = 0\n",
    "        else:\n",
    "            epochs_no_improve += 1\n",
    "            if epochs_no_improve >= patience:\n",
    "                print(f\"Early stopping triggered at epoch {epoch+1}\")\n",
    "                break\n",
    "\n",
    "    # --- Load best model ---\n",
    "    model.load_state_dict(best_model_wts)\n",
    "\n",
    "    # --- Plot losses ---\n",
    "    plt.figure(figsize=(7,5))\n",
    "    plt.plot(train_losses, label='Train Loss')\n",
    "    plt.plot(test_losses, label='Validation Loss')\n",
    "    plt.xlabel('Epoch')\n",
    "    plt.ylabel('Loss')\n",
    "    plt.title('Training and Validation Loss')\n",
    "    plt.legend()\n",
    "    plt.show()\n",
    "\n",
    "    return model"
   ]
  },
  {
   "cell_type": "code",
   "execution_count": 16,
   "id": "b13092ec",
   "metadata": {
    "execution": {
     "iopub.execute_input": "2025-10-06T19:49:34.024356Z",
     "iopub.status.busy": "2025-10-06T19:49:34.024066Z",
     "iopub.status.idle": "2025-10-06T19:49:57.146804Z",
     "shell.execute_reply": "2025-10-06T19:49:57.145781Z"
    },
    "papermill": {
     "duration": 23.130067,
     "end_time": "2025-10-06T19:49:57.148449",
     "exception": false,
     "start_time": "2025-10-06T19:49:34.018382",
     "status": "completed"
    },
    "tags": []
   },
   "outputs": [
    {
     "name": "stderr",
     "output_type": "stream",
     "text": [
      "                                                                     \r"
     ]
    },
    {
     "name": "stdout",
     "output_type": "stream",
     "text": [
      "Epoch [1/50] - Train Loss: 0.6975, Test Loss: 0.6695\n"
     ]
    },
    {
     "name": "stderr",
     "output_type": "stream",
     "text": [
      "                                                                     \r"
     ]
    },
    {
     "name": "stdout",
     "output_type": "stream",
     "text": [
      "Epoch [2/50] - Train Loss: 0.6705, Test Loss: 0.6687\n"
     ]
    },
    {
     "name": "stderr",
     "output_type": "stream",
     "text": [
      "                                                                      \r"
     ]
    },
    {
     "name": "stdout",
     "output_type": "stream",
     "text": [
      "Epoch [3/50] - Train Loss: 0.6722, Test Loss: 0.6681\n"
     ]
    },
    {
     "name": "stderr",
     "output_type": "stream",
     "text": [
      "                                                                     \r"
     ]
    },
    {
     "name": "stdout",
     "output_type": "stream",
     "text": [
      "Epoch [4/50] - Train Loss: 0.6697, Test Loss: 0.6681\n"
     ]
    },
    {
     "name": "stderr",
     "output_type": "stream",
     "text": [
      "                                                                     \r"
     ]
    },
    {
     "name": "stdout",
     "output_type": "stream",
     "text": [
      "Epoch [5/50] - Train Loss: 0.6694, Test Loss: 0.6680\n"
     ]
    },
    {
     "name": "stderr",
     "output_type": "stream",
     "text": [
      "                                                                     \r"
     ]
    },
    {
     "name": "stdout",
     "output_type": "stream",
     "text": [
      "Epoch [6/50] - Train Loss: 0.6695, Test Loss: 0.6682\n"
     ]
    },
    {
     "name": "stderr",
     "output_type": "stream",
     "text": [
      "                                                                     \r"
     ]
    },
    {
     "name": "stdout",
     "output_type": "stream",
     "text": [
      "Epoch [7/50] - Train Loss: 0.6687, Test Loss: 0.6682\n"
     ]
    },
    {
     "name": "stderr",
     "output_type": "stream",
     "text": [
      "                                                                     \r"
     ]
    },
    {
     "name": "stdout",
     "output_type": "stream",
     "text": [
      "Epoch [8/50] - Train Loss: 0.6699, Test Loss: 0.6690\n"
     ]
    },
    {
     "name": "stderr",
     "output_type": "stream",
     "text": [
      "                                                                     \r"
     ]
    },
    {
     "name": "stdout",
     "output_type": "stream",
     "text": [
      "Epoch [9/50] - Train Loss: 0.6431, Test Loss: 0.5407\n"
     ]
    },
    {
     "name": "stderr",
     "output_type": "stream",
     "text": [
      "                                                                      \r"
     ]
    },
    {
     "name": "stdout",
     "output_type": "stream",
     "text": [
      "Epoch [10/50] - Train Loss: 0.4300, Test Loss: 0.3777\n"
     ]
    },
    {
     "name": "stderr",
     "output_type": "stream",
     "text": [
      "                                                                      \r"
     ]
    },
    {
     "name": "stdout",
     "output_type": "stream",
     "text": [
      "Epoch [11/50] - Train Loss: 0.3191, Test Loss: 0.3194\n"
     ]
    },
    {
     "name": "stderr",
     "output_type": "stream",
     "text": [
      "                                                                      \r"
     ]
    },
    {
     "name": "stdout",
     "output_type": "stream",
     "text": [
      "Epoch [12/50] - Train Loss: 0.2506, Test Loss: 0.3051\n"
     ]
    },
    {
     "name": "stderr",
     "output_type": "stream",
     "text": [
      "                                                                      \r"
     ]
    },
    {
     "name": "stdout",
     "output_type": "stream",
     "text": [
      "Epoch [13/50] - Train Loss: 0.1896, Test Loss: 0.2949\n"
     ]
    },
    {
     "name": "stderr",
     "output_type": "stream",
     "text": [
      "                                                                      \r"
     ]
    },
    {
     "name": "stdout",
     "output_type": "stream",
     "text": [
      "Epoch [14/50] - Train Loss: 0.1619, Test Loss: 0.2476\n"
     ]
    },
    {
     "name": "stderr",
     "output_type": "stream",
     "text": [
      "                                                                      \r"
     ]
    },
    {
     "name": "stdout",
     "output_type": "stream",
     "text": [
      "Epoch [15/50] - Train Loss: 0.1462, Test Loss: 0.2471\n"
     ]
    },
    {
     "name": "stderr",
     "output_type": "stream",
     "text": [
      "                                                                      \r"
     ]
    },
    {
     "name": "stdout",
     "output_type": "stream",
     "text": [
      "Epoch [16/50] - Train Loss: 0.1680, Test Loss: 0.2205\n"
     ]
    },
    {
     "name": "stderr",
     "output_type": "stream",
     "text": [
      "                                                                      \r"
     ]
    },
    {
     "name": "stdout",
     "output_type": "stream",
     "text": [
      "Epoch [17/50] - Train Loss: 0.1148, Test Loss: 0.2065\n"
     ]
    },
    {
     "name": "stderr",
     "output_type": "stream",
     "text": [
      "                                                                      \r"
     ]
    },
    {
     "name": "stdout",
     "output_type": "stream",
     "text": [
      "Epoch [18/50] - Train Loss: 0.0966, Test Loss: 0.1918\n"
     ]
    },
    {
     "name": "stderr",
     "output_type": "stream",
     "text": [
      "                                                                      \r"
     ]
    },
    {
     "name": "stdout",
     "output_type": "stream",
     "text": [
      "Epoch [19/50] - Train Loss: 0.0811, Test Loss: 0.1828\n"
     ]
    },
    {
     "name": "stderr",
     "output_type": "stream",
     "text": [
      "                                                                      \r"
     ]
    },
    {
     "name": "stdout",
     "output_type": "stream",
     "text": [
      "Epoch [20/50] - Train Loss: 0.0793, Test Loss: 0.1528\n"
     ]
    },
    {
     "name": "stderr",
     "output_type": "stream",
     "text": [
      "                                                                      \r"
     ]
    },
    {
     "name": "stdout",
     "output_type": "stream",
     "text": [
      "Epoch [21/50] - Train Loss: 0.0645, Test Loss: 0.1442\n"
     ]
    },
    {
     "name": "stderr",
     "output_type": "stream",
     "text": [
      "                                                                      \r"
     ]
    },
    {
     "name": "stdout",
     "output_type": "stream",
     "text": [
      "Epoch [22/50] - Train Loss: 0.0508, Test Loss: 0.1364\n"
     ]
    },
    {
     "name": "stderr",
     "output_type": "stream",
     "text": [
      "                                                                      \r"
     ]
    },
    {
     "name": "stdout",
     "output_type": "stream",
     "text": [
      "Epoch [23/50] - Train Loss: 0.0426, Test Loss: 0.1144\n"
     ]
    },
    {
     "name": "stderr",
     "output_type": "stream",
     "text": [
      "                                                                       \r"
     ]
    },
    {
     "name": "stdout",
     "output_type": "stream",
     "text": [
      "Epoch [24/50] - Train Loss: 0.0249, Test Loss: 0.1368\n"
     ]
    },
    {
     "name": "stderr",
     "output_type": "stream",
     "text": [
      "                                                                      \r"
     ]
    },
    {
     "name": "stdout",
     "output_type": "stream",
     "text": [
      "Epoch [25/50] - Train Loss: 0.0198, Test Loss: 0.1072\n"
     ]
    },
    {
     "name": "stderr",
     "output_type": "stream",
     "text": [
      "                                                                      \r"
     ]
    },
    {
     "name": "stdout",
     "output_type": "stream",
     "text": [
      "Epoch [26/50] - Train Loss: 0.0296, Test Loss: 0.1080\n"
     ]
    },
    {
     "name": "stderr",
     "output_type": "stream",
     "text": [
      "                                                                      \r"
     ]
    },
    {
     "name": "stdout",
     "output_type": "stream",
     "text": [
      "Epoch [27/50] - Train Loss: 0.0160, Test Loss: 0.1045\n"
     ]
    },
    {
     "name": "stderr",
     "output_type": "stream",
     "text": [
      "                                                                       \r"
     ]
    },
    {
     "name": "stdout",
     "output_type": "stream",
     "text": [
      "Epoch [28/50] - Train Loss: 0.0075, Test Loss: 0.1213\n"
     ]
    },
    {
     "name": "stderr",
     "output_type": "stream",
     "text": [
      "                                                                      \r"
     ]
    },
    {
     "name": "stdout",
     "output_type": "stream",
     "text": [
      "Epoch [29/50] - Train Loss: 0.0075, Test Loss: 0.1282\n"
     ]
    },
    {
     "name": "stderr",
     "output_type": "stream",
     "text": [
      "                                                                      \r"
     ]
    },
    {
     "name": "stdout",
     "output_type": "stream",
     "text": [
      "Epoch [30/50] - Train Loss: 0.0092, Test Loss: 0.1329\n"
     ]
    },
    {
     "name": "stderr",
     "output_type": "stream",
     "text": [
      "                                                                      \r"
     ]
    },
    {
     "name": "stdout",
     "output_type": "stream",
     "text": [
      "Epoch [31/50] - Train Loss: 0.0089, Test Loss: 0.1360\n"
     ]
    },
    {
     "name": "stderr",
     "output_type": "stream",
     "text": [
      "                                                                       \r"
     ]
    },
    {
     "name": "stdout",
     "output_type": "stream",
     "text": [
      "Epoch [32/50] - Train Loss: 0.0068, Test Loss: 0.1294\n",
      "Early stopping triggered at epoch 32\n"
     ]
    },
    {
     "data": {
      "image/png": "[encoded data removed]",
      "text/plain": [
       "<Figure size 700x500 with 1 Axes>"
      ]
     },
     "metadata": {},
     "output_type": "display_data"
    }
   ],
   "source": [
    "device = torch.device(\"cuda\" if torch.cuda.is_available() else \"cpu\")\n",
    "embed_dim = 50\n",
    "hidden_dim = 64\n",
    "\n",
    "model = SentimentRNN(vocab_size=vocab_size, embed_dim=embed_dim, hidden_dim=hidden_dim, output_dim=num_classes, rnn_type='LSTM')\n",
    "criterion = nn.CrossEntropyLoss()\n",
    "optimizer = torch.optim.Adam(model.parameters(), lr=0.001)\n",
    "\n",
    "model = train_model(model, train_loader, test_loader, criterion, optimizer, num_epochs=50, device=device)"
   ]
  },
  {
   "cell_type": "code",
   "execution_count": 17,
   "id": "b04890bf",
   "metadata": {
    "execution": {
     "iopub.execute_input": "2025-10-06T19:49:57.179843Z",
     "iopub.status.busy": "2025-10-06T19:49:57.179362Z",
     "iopub.status.idle": "2025-10-06T19:49:57.246786Z",
     "shell.execute_reply": "2025-10-06T19:49:57.245816Z"
    },
    "papermill": {
     "duration": 0.08479,
     "end_time": "2025-10-06T19:49:57.248257",
     "exception": false,
     "start_time": "2025-10-06T19:49:57.163467",
     "status": "completed"
    },
    "tags": []
   },
   "outputs": [
    {
     "name": "stdout",
     "output_type": "stream",
     "text": [
      "Accuracy: 0.9791425260718424\n",
      "Confusion Matrix:\n",
      " [[ 10   0   0]\n",
      " [  0 251   6]\n",
      " [  2  10 584]]\n",
      "Classification Report:\n",
      "               precision    recall  f1-score   support\n",
      "\n",
      "    Negative       0.83      1.00      0.91        10\n",
      "     Neutral       0.96      0.98      0.97       257\n",
      "    Positive       0.99      0.98      0.98       596\n",
      "\n",
      "    accuracy                           0.98       863\n",
      "   macro avg       0.93      0.99      0.95       863\n",
      "weighted avg       0.98      0.98      0.98       863\n",
      "\n"
     ]
    }
   ],
   "source": [
    "model.eval()\n",
    "y_true, y_pred = [], []\n",
    "\n",
    "with torch.no_grad():\n",
    "    for inputs, labels in test_loader:\n",
    "        inputs, labels = inputs.to(device), labels.to(device)\n",
    "        outputs = model(inputs)\n",
    "        _, preds = torch.max(outputs, dim=1)\n",
    "        y_true.extend(labels.cpu().numpy())\n",
    "        y_pred.extend(preds.cpu().numpy())\n",
    "\n",
    "print(\"Accuracy:\", accuracy_score(y_true, y_pred))\n",
    "print(\"Confusion Matrix:\\n\", confusion_matrix(y_true, y_pred))\n",
    "print(\"Classification Report:\\n\", classification_report(y_true, y_pred, target_names=le.classes_))\n"
   ]
  },
  {
   "cell_type": "code",
   "execution_count": 18,
   "id": "6d4cfc0c",
   "metadata": {
    "execution": {
     "iopub.execute_input": "2025-10-06T19:49:57.277827Z",
     "iopub.status.busy": "2025-10-06T19:49:57.277486Z",
     "iopub.status.idle": "2025-10-06T19:50:31.733248Z",
     "shell.execute_reply": "2025-10-06T19:50:31.732490Z"
    },
    "papermill": {
     "duration": 34.472275,
     "end_time": "2025-10-06T19:50:31.734838",
     "exception": false,
     "start_time": "2025-10-06T19:49:57.262563",
     "status": "completed"
    },
    "tags": []
   },
   "outputs": [
    {
     "name": "stderr",
     "output_type": "stream",
     "text": [
      "                                                                      \r"
     ]
    },
    {
     "name": "stdout",
     "output_type": "stream",
     "text": [
      "Epoch [1/50] - Train Loss: 0.6949, Test Loss: 0.6688\n"
     ]
    },
    {
     "name": "stderr",
     "output_type": "stream",
     "text": [
      "                                                                     \r"
     ]
    },
    {
     "name": "stdout",
     "output_type": "stream",
     "text": [
      "Epoch [2/50] - Train Loss: 0.6481, Test Loss: 0.5758\n"
     ]
    },
    {
     "name": "stderr",
     "output_type": "stream",
     "text": [
      "                                                                      \r"
     ]
    },
    {
     "name": "stdout",
     "output_type": "stream",
     "text": [
      "Epoch [3/50] - Train Loss: 0.3887, Test Loss: 0.3107\n"
     ]
    },
    {
     "name": "stderr",
     "output_type": "stream",
     "text": [
      "                                                                     \r"
     ]
    },
    {
     "name": "stdout",
     "output_type": "stream",
     "text": [
      "Epoch [4/50] - Train Loss: 0.2100, Test Loss: 0.2213\n"
     ]
    },
    {
     "name": "stderr",
     "output_type": "stream",
     "text": [
      "                                                                    \r"
     ]
    },
    {
     "name": "stdout",
     "output_type": "stream",
     "text": [
      "Epoch [5/50] - Train Loss: 0.1365, Test Loss: 0.1823\n"
     ]
    },
    {
     "name": "stderr",
     "output_type": "stream",
     "text": [
      "                                                                     \r"
     ]
    },
    {
     "name": "stdout",
     "output_type": "stream",
     "text": [
      "Epoch [6/50] - Train Loss: 0.0986, Test Loss: 0.1393\n"
     ]
    },
    {
     "name": "stderr",
     "output_type": "stream",
     "text": [
      "                                                                     \r"
     ]
    },
    {
     "name": "stdout",
     "output_type": "stream",
     "text": [
      "Epoch [7/50] - Train Loss: 0.0764, Test Loss: 0.1481\n"
     ]
    },
    {
     "name": "stderr",
     "output_type": "stream",
     "text": [
      "                                                                      \r"
     ]
    },
    {
     "name": "stdout",
     "output_type": "stream",
     "text": [
      "Epoch [8/50] - Train Loss: 0.0709, Test Loss: 0.1343\n"
     ]
    },
    {
     "name": "stderr",
     "output_type": "stream",
     "text": [
      "                                                                    \r"
     ]
    },
    {
     "name": "stdout",
     "output_type": "stream",
     "text": [
      "Epoch [9/50] - Train Loss: 0.0573, Test Loss: 0.1293\n"
     ]
    },
    {
     "name": "stderr",
     "output_type": "stream",
     "text": [
      "                                                                      \r"
     ]
    },
    {
     "name": "stdout",
     "output_type": "stream",
     "text": [
      "Epoch [10/50] - Train Loss: 0.0498, Test Loss: 0.1219\n"
     ]
    },
    {
     "name": "stderr",
     "output_type": "stream",
     "text": [
      "                                                                       \r"
     ]
    },
    {
     "name": "stdout",
     "output_type": "stream",
     "text": [
      "Epoch [11/50] - Train Loss: 0.0495, Test Loss: 0.1134\n"
     ]
    },
    {
     "name": "stderr",
     "output_type": "stream",
     "text": [
      "                                                                       \r"
     ]
    },
    {
     "name": "stdout",
     "output_type": "stream",
     "text": [
      "Epoch [12/50] - Train Loss: 0.0413, Test Loss: 0.1353\n"
     ]
    },
    {
     "name": "stderr",
     "output_type": "stream",
     "text": [
      "                                                                       \r"
     ]
    },
    {
     "name": "stdout",
     "output_type": "stream",
     "text": [
      "Epoch [13/50] - Train Loss: 0.0351, Test Loss: 0.1064\n"
     ]
    },
    {
     "name": "stderr",
     "output_type": "stream",
     "text": [
      "                                                                       \r"
     ]
    },
    {
     "name": "stdout",
     "output_type": "stream",
     "text": [
      "Epoch [14/50] - Train Loss: 0.0270, Test Loss: 0.0971\n"
     ]
    },
    {
     "name": "stderr",
     "output_type": "stream",
     "text": [
      "                                                                       \r"
     ]
    },
    {
     "name": "stdout",
     "output_type": "stream",
     "text": [
      "Epoch [15/50] - Train Loss: 0.0263, Test Loss: 0.0973\n"
     ]
    },
    {
     "name": "stderr",
     "output_type": "stream",
     "text": [
      "                                                                       \r"
     ]
    },
    {
     "name": "stdout",
     "output_type": "stream",
     "text": [
      "Epoch [16/50] - Train Loss: 0.0257, Test Loss: 0.0936\n"
     ]
    },
    {
     "name": "stderr",
     "output_type": "stream",
     "text": [
      "                                                                      \r"
     ]
    },
    {
     "name": "stdout",
     "output_type": "stream",
     "text": [
      "Epoch [17/50] - Train Loss: 0.0214, Test Loss: 0.0868\n"
     ]
    },
    {
     "name": "stderr",
     "output_type": "stream",
     "text": [
      "                                                                       \r"
     ]
    },
    {
     "name": "stdout",
     "output_type": "stream",
     "text": [
      "Epoch [18/50] - Train Loss: 0.0151, Test Loss: 0.0849\n"
     ]
    },
    {
     "name": "stderr",
     "output_type": "stream",
     "text": [
      "                                                                       \r"
     ]
    },
    {
     "name": "stdout",
     "output_type": "stream",
     "text": [
      "Epoch [19/50] - Train Loss: 0.0137, Test Loss: 0.0856\n"
     ]
    },
    {
     "name": "stderr",
     "output_type": "stream",
     "text": [
      "                                                                      \r"
     ]
    },
    {
     "name": "stdout",
     "output_type": "stream",
     "text": [
      "Epoch [20/50] - Train Loss: 0.0135, Test Loss: 0.0991\n"
     ]
    },
    {
     "name": "stderr",
     "output_type": "stream",
     "text": [
      "                                                                      \r"
     ]
    },
    {
     "name": "stdout",
     "output_type": "stream",
     "text": [
      "Epoch [21/50] - Train Loss: 0.0174, Test Loss: 0.0876\n"
     ]
    },
    {
     "name": "stderr",
     "output_type": "stream",
     "text": [
      "                                                                      \r"
     ]
    },
    {
     "name": "stdout",
     "output_type": "stream",
     "text": [
      "Epoch [22/50] - Train Loss: 0.0147, Test Loss: 0.0775\n"
     ]
    },
    {
     "name": "stderr",
     "output_type": "stream",
     "text": [
      "                                                                       \r"
     ]
    },
    {
     "name": "stdout",
     "output_type": "stream",
     "text": [
      "Epoch [23/50] - Train Loss: 0.0100, Test Loss: 0.0928\n"
     ]
    },
    {
     "name": "stderr",
     "output_type": "stream",
     "text": [
      "                                                                       \r"
     ]
    },
    {
     "name": "stdout",
     "output_type": "stream",
     "text": [
      "Epoch [24/50] - Train Loss: 0.0058, Test Loss: 0.0819\n"
     ]
    },
    {
     "name": "stderr",
     "output_type": "stream",
     "text": [
      "                                                                      \r"
     ]
    },
    {
     "name": "stdout",
     "output_type": "stream",
     "text": [
      "Epoch [25/50] - Train Loss: 0.0038, Test Loss: 0.0872\n"
     ]
    },
    {
     "name": "stderr",
     "output_type": "stream",
     "text": [
      "                                                                      \r"
     ]
    },
    {
     "name": "stdout",
     "output_type": "stream",
     "text": [
      "Epoch [26/50] - Train Loss: 0.0051, Test Loss: 0.0666\n"
     ]
    },
    {
     "name": "stderr",
     "output_type": "stream",
     "text": [
      "                                                                      \r"
     ]
    },
    {
     "name": "stdout",
     "output_type": "stream",
     "text": [
      "Epoch [27/50] - Train Loss: 0.0039, Test Loss: 0.1014\n"
     ]
    },
    {
     "name": "stderr",
     "output_type": "stream",
     "text": [
      "                                                                       \r"
     ]
    },
    {
     "name": "stdout",
     "output_type": "stream",
     "text": [
      "Epoch [28/50] - Train Loss: 0.0149, Test Loss: 0.0800\n"
     ]
    },
    {
     "name": "stderr",
     "output_type": "stream",
     "text": [
      "                                                                       \r"
     ]
    },
    {
     "name": "stdout",
     "output_type": "stream",
     "text": [
      "Epoch [29/50] - Train Loss: 0.0076, Test Loss: 0.1000\n"
     ]
    },
    {
     "name": "stderr",
     "output_type": "stream",
     "text": [
      "                                                                      \r"
     ]
    },
    {
     "name": "stdout",
     "output_type": "stream",
     "text": [
      "Epoch [30/50] - Train Loss: 0.0065, Test Loss: 0.0879\n"
     ]
    },
    {
     "name": "stderr",
     "output_type": "stream",
     "text": [
      "                                                                       \r"
     ]
    },
    {
     "name": "stdout",
     "output_type": "stream",
     "text": [
      "Epoch [31/50] - Train Loss: 0.0027, Test Loss: 0.0865\n",
      "Early stopping triggered at epoch 31\n"
     ]
    },
    {
     "data": {
      "image/png": "[encoded data removed]",
      "text/plain": [
       "<Figure size 700x500 with 1 Axes>"
      ]
     },
     "metadata": {},
     "output_type": "display_data"
    }
   ],
   "source": [
    "device = torch.device(\"cuda\" if torch.cuda.is_available() else \"cpu\")\n",
    "embed_dim = 50\n",
    "hidden_dim = 64\n",
    "\n",
    "model = SentimentRNN(vocab_size=vocab_size, embed_dim=embed_dim, hidden_dim=hidden_dim, output_dim=num_classes, rnn_type='GRU')\n",
    "criterion = nn.CrossEntropyLoss()\n",
    "optimizer = torch.optim.Adam(model.parameters(), lr=0.001)\n",
    "\n",
    "model = train_model(model, train_loader, test_loader, criterion, optimizer, num_epochs=50, device=device)"
   ]
  },
  {
   "cell_type": "code",
   "execution_count": 19,
   "id": "7e45ab76",
   "metadata": {
    "execution": {
     "iopub.execute_input": "2025-10-06T19:50:31.791664Z",
     "iopub.status.busy": "2025-10-06T19:50:31.791404Z",
     "iopub.status.idle": "2025-10-06T19:50:31.872203Z",
     "shell.execute_reply": "2025-10-06T19:50:31.871360Z"
    },
    "papermill": {
     "duration": 0.110158,
     "end_time": "2025-10-06T19:50:31.873378",
     "exception": false,
     "start_time": "2025-10-06T19:50:31.763220",
     "status": "completed"
    },
    "tags": []
   },
   "outputs": [
    {
     "name": "stdout",
     "output_type": "stream",
     "text": [
      "Accuracy: 0.9872537659327926\n",
      "Confusion Matrix:\n",
      " [[ 10   0   0]\n",
      " [  0 253   4]\n",
      " [  2   5 589]]\n",
      "Classification Report:\n",
      "               precision    recall  f1-score   support\n",
      "\n",
      "    Negative       0.83      1.00      0.91        10\n",
      "     Neutral       0.98      0.98      0.98       257\n",
      "    Positive       0.99      0.99      0.99       596\n",
      "\n",
      "    accuracy                           0.99       863\n",
      "   macro avg       0.94      0.99      0.96       863\n",
      "weighted avg       0.99      0.99      0.99       863\n",
      "\n"
     ]
    }
   ],
   "source": [
    "model.eval()\n",
    "y_true, y_pred = [], []\n",
    "\n",
    "with torch.no_grad():\n",
    "    for inputs, labels in test_loader:\n",
    "        inputs, labels = inputs.to(device), labels.to(device)\n",
    "        outputs = model(inputs)\n",
    "        _, preds = torch.max(outputs, dim=1)\n",
    "        y_true.extend(labels.cpu().numpy())\n",
    "        y_pred.extend(preds.cpu().numpy())\n",
    "\n",
    "print(\"Accuracy:\", accuracy_score(y_true, y_pred))\n",
    "print(\"Confusion Matrix:\\n\", confusion_matrix(y_true, y_pred))\n",
    "print(\"Classification Report:\\n\", classification_report(y_true, y_pred, target_names=le.classes_))\n"
   ]
  },
  {
   "cell_type": "code",
   "execution_count": 20,
   "id": "27d2858c",
   "metadata": {
    "execution": {
     "iopub.execute_input": "2025-10-06T19:50:31.931330Z",
     "iopub.status.busy": "2025-10-06T19:50:31.930658Z",
     "iopub.status.idle": "2025-10-06T19:50:40.373545Z",
     "shell.execute_reply": "2025-10-06T19:50:40.372990Z"
    },
    "papermill": {
     "duration": 8.472748,
     "end_time": "2025-10-06T19:50:40.374430",
     "exception": false,
     "start_time": "2025-10-06T19:50:31.901682",
     "status": "completed"
    },
    "tags": []
   },
   "outputs": [
    {
     "name": "stderr",
     "output_type": "stream",
     "text": [
      "                                                                      \r"
     ]
    },
    {
     "name": "stdout",
     "output_type": "stream",
     "text": [
      "Epoch [1/50] - Train Loss: 0.6840, Test Loss: 0.6721\n"
     ]
    },
    {
     "name": "stderr",
     "output_type": "stream",
     "text": [
      "                                                                     \r"
     ]
    },
    {
     "name": "stdout",
     "output_type": "stream",
     "text": [
      "Epoch [2/50] - Train Loss: 0.6746, Test Loss: 0.6718\n"
     ]
    },
    {
     "name": "stderr",
     "output_type": "stream",
     "text": [
      "                                                                     \r"
     ]
    },
    {
     "name": "stdout",
     "output_type": "stream",
     "text": [
      "Epoch [3/50] - Train Loss: 0.6716, Test Loss: 0.6699\n"
     ]
    },
    {
     "name": "stderr",
     "output_type": "stream",
     "text": [
      "                                                                     \r"
     ]
    },
    {
     "name": "stdout",
     "output_type": "stream",
     "text": [
      "Epoch [4/50] - Train Loss: 0.6724, Test Loss: 0.6709\n"
     ]
    },
    {
     "name": "stderr",
     "output_type": "stream",
     "text": [
      "                                                                     \r"
     ]
    },
    {
     "name": "stdout",
     "output_type": "stream",
     "text": [
      "Epoch [5/50] - Train Loss: 0.6699, Test Loss: 0.6705\n"
     ]
    },
    {
     "name": "stderr",
     "output_type": "stream",
     "text": [
      "                                                                     \r"
     ]
    },
    {
     "name": "stdout",
     "output_type": "stream",
     "text": [
      "Epoch [6/50] - Train Loss: 0.6693, Test Loss: 0.6712\n"
     ]
    },
    {
     "name": "stderr",
     "output_type": "stream",
     "text": [
      "                                                                     \r"
     ]
    },
    {
     "name": "stdout",
     "output_type": "stream",
     "text": [
      "Epoch [7/50] - Train Loss: 0.6644, Test Loss: 0.6559\n"
     ]
    },
    {
     "name": "stderr",
     "output_type": "stream",
     "text": [
      "                                                                     \r"
     ]
    },
    {
     "name": "stdout",
     "output_type": "stream",
     "text": [
      "Epoch [8/50] - Train Loss: 0.6395, Test Loss: 0.6562\n"
     ]
    },
    {
     "name": "stderr",
     "output_type": "stream",
     "text": [
      "                                                                     \r"
     ]
    },
    {
     "name": "stdout",
     "output_type": "stream",
     "text": [
      "Epoch [9/50] - Train Loss: 0.6457, Test Loss: 0.6625\n"
     ]
    },
    {
     "name": "stderr",
     "output_type": "stream",
     "text": [
      "                                                                      \r"
     ]
    },
    {
     "name": "stdout",
     "output_type": "stream",
     "text": [
      "Epoch [10/50] - Train Loss: 0.6521, Test Loss: 0.6536\n"
     ]
    },
    {
     "name": "stderr",
     "output_type": "stream",
     "text": [
      "                                                                      \r"
     ]
    },
    {
     "name": "stdout",
     "output_type": "stream",
     "text": [
      "Epoch [11/50] - Train Loss: 0.6555, Test Loss: 0.6524\n"
     ]
    },
    {
     "name": "stderr",
     "output_type": "stream",
     "text": [
      "                                                                      \r"
     ]
    },
    {
     "name": "stdout",
     "output_type": "stream",
     "text": [
      "Epoch [12/50] - Train Loss: 0.6546, Test Loss: 0.6592\n"
     ]
    },
    {
     "name": "stderr",
     "output_type": "stream",
     "text": [
      "                                                                      \r"
     ]
    },
    {
     "name": "stdout",
     "output_type": "stream",
     "text": [
      "Epoch [13/50] - Train Loss: 0.6526, Test Loss: 0.6687\n"
     ]
    },
    {
     "name": "stderr",
     "output_type": "stream",
     "text": [
      "                                                                       \r"
     ]
    },
    {
     "name": "stdout",
     "output_type": "stream",
     "text": [
      "Epoch [14/50] - Train Loss: 0.6528, Test Loss: 0.6624\n"
     ]
    },
    {
     "name": "stderr",
     "output_type": "stream",
     "text": [
      "                                                                       \r"
     ]
    },
    {
     "name": "stdout",
     "output_type": "stream",
     "text": [
      "Epoch [15/50] - Train Loss: 0.6549, Test Loss: 0.6685\n"
     ]
    },
    {
     "name": "stderr",
     "output_type": "stream",
     "text": [
      "                                                                      \r"
     ]
    },
    {
     "name": "stdout",
     "output_type": "stream",
     "text": [
      "Epoch [16/50] - Train Loss: 0.6529, Test Loss: 0.6635\n",
      "Early stopping triggered at epoch 16\n"
     ]
    },
    {
     "data": {
      "image/png": "[encoded data removed]",
      "text/plain": [
       "<Figure size 700x500 with 1 Axes>"
      ]
     },
     "metadata": {},
     "output_type": "display_data"
    }
   ],
   "source": [
    "device = torch.device(\"cuda\" if torch.cuda.is_available() else \"cpu\")\n",
    "embed_dim = 50\n",
    "hidden_dim = 64\n",
    "\n",
    "model = SentimentRNN(vocab_size=vocab_size, embed_dim=embed_dim, hidden_dim=hidden_dim, output_dim=num_classes, rnn_type='RNN')\n",
    "criterion = nn.CrossEntropyLoss()\n",
    "optimizer = torch.optim.Adam(model.parameters(), lr=0.001)\n",
    "\n",
    "model = train_model(model, train_loader, test_loader, criterion, optimizer, num_epochs=50, device=device)"
   ]
  },
  {
   "cell_type": "code",
   "execution_count": 21,
   "id": "9520d5b1",
   "metadata": {
    "execution": {
     "iopub.execute_input": "2025-10-06T19:50:40.442241Z",
     "iopub.status.busy": "2025-10-06T19:50:40.441908Z",
     "iopub.status.idle": "2025-10-06T19:50:40.488588Z",
     "shell.execute_reply": "2025-10-06T19:50:40.487585Z"
    },
    "papermill": {
     "duration": 0.082711,
     "end_time": "2025-10-06T19:50:40.489897",
     "exception": false,
     "start_time": "2025-10-06T19:50:40.407186",
     "status": "completed"
    },
    "tags": []
   },
   "outputs": [
    {
     "name": "stdout",
     "output_type": "stream",
     "text": [
      "Accuracy: 0.6906141367323291\n",
      "Confusion Matrix:\n",
      " [[  0   0  10]\n",
      " [  0   0 257]\n",
      " [  0   0 596]]\n",
      "Classification Report:\n",
      "               precision    recall  f1-score   support\n",
      "\n",
      "    Negative       0.00      0.00      0.00        10\n",
      "     Neutral       0.00      0.00      0.00       257\n",
      "    Positive       0.69      1.00      0.82       596\n",
      "\n",
      "    accuracy                           0.69       863\n",
      "   macro avg       0.23      0.33      0.27       863\n",
      "weighted avg       0.48      0.69      0.56       863\n",
      "\n"
     ]
    }
   ],
   "source": [
    "model.eval()\n",
    "y_true, y_pred = [], []\n",
    "\n",
    "with torch.no_grad():\n",
    "    for inputs, labels in test_loader:\n",
    "        inputs, labels = inputs.to(device), labels.to(device)\n",
    "        outputs = model(inputs)\n",
    "        _, preds = torch.max(outputs, dim=1)\n",
    "        y_true.extend(labels.cpu().numpy())\n",
    "        y_pred.extend(preds.cpu().numpy())\n",
    "\n",
    "print(\"Accuracy:\", accuracy_score(y_true, y_pred))\n",
    "print(\"Confusion Matrix:\\n\", confusion_matrix(y_true, y_pred))\n",
    "print(\"Classification Report:\\n\", classification_report(y_true, y_pred, target_names=le.classes_))\n"
   ]
  },
  {
   "cell_type": "markdown",
   "id": "3fcc5702",
   "metadata": {
    "papermill": {
     "duration": 0.031897,
     "end_time": "2025-10-06T19:50:40.555644",
     "exception": false,
     "start_time": "2025-10-06T19:50:40.523747",
     "status": "completed"
    },
    "tags": []
   },
   "source": [
    "## Pre-trained embeddings"
   ]
  },
  {
   "cell_type": "code",
   "execution_count": 22,
   "id": "ef1ba607",
   "metadata": {
    "execution": {
     "iopub.execute_input": "2025-10-06T19:50:40.621231Z",
     "iopub.status.busy": "2025-10-06T19:50:40.620920Z",
     "iopub.status.idle": "2025-10-06T19:50:44.603525Z",
     "shell.execute_reply": "2025-10-06T19:50:44.602486Z"
    },
    "papermill": {
     "duration": 4.017047,
     "end_time": "2025-10-06T19:50:44.605140",
     "exception": false,
     "start_time": "2025-10-06T19:50:40.588093",
     "status": "completed"
    },
    "tags": []
   },
   "outputs": [
    {
     "name": "stdout",
     "output_type": "stream",
     "text": [
      "Loaded 400000 word vectors from GloVe.\n"
     ]
    }
   ],
   "source": [
    "glove_path = \"/kaggle/input/glove6b50d/glove.6B.50d.txt\"\n",
    "\n",
    "embedding_dim = 50\n",
    "embeddings_index = {}\n",
    "\n",
    "with open(glove_path, 'r', encoding='utf8') as f:\n",
    "    for line in f:\n",
    "        values = line.split()\n",
    "        word = values[0]\n",
    "        vector = np.asarray(values[1:], dtype='float32')\n",
    "        embeddings_index[word] = vector\n",
    "\n",
    "print(f\"Loaded {len(embeddings_index)} word vectors from GloVe.\")\n"
   ]
  },
  {
   "cell_type": "code",
   "execution_count": 23,
   "id": "416e90a6",
   "metadata": {
    "execution": {
     "iopub.execute_input": "2025-10-06T19:50:44.673100Z",
     "iopub.status.busy": "2025-10-06T19:50:44.672838Z",
     "iopub.status.idle": "2025-10-06T19:50:44.682364Z",
     "shell.execute_reply": "2025-10-06T19:50:44.681453Z"
    },
    "papermill": {
     "duration": 0.044613,
     "end_time": "2025-10-06T19:50:44.683789",
     "exception": false,
     "start_time": "2025-10-06T19:50:44.639176",
     "status": "completed"
    },
    "tags": []
   },
   "outputs": [],
   "source": [
    "vocab_size = len(vocab) + 1  # +1 for padding idx 0\n",
    "embedding_matrix = np.zeros((vocab_size, embedding_dim))\n",
    "\n",
    "for word, idx in vocab.items():\n",
    "    vec = embeddings_index.get(word)\n",
    "    if vec is not None:\n",
    "        embedding_matrix[idx] = vec\n",
    "    else:\n",
    "        # random init if word not in GloVe\n",
    "        embedding_matrix[idx] = np.random.normal(scale=0.6, size=(embedding_dim,))"
   ]
  },
  {
   "cell_type": "code",
   "execution_count": 24,
   "id": "86d6637f",
   "metadata": {
    "execution": {
     "iopub.execute_input": "2025-10-06T19:50:44.751697Z",
     "iopub.status.busy": "2025-10-06T19:50:44.751437Z",
     "iopub.status.idle": "2025-10-06T19:50:44.758258Z",
     "shell.execute_reply": "2025-10-06T19:50:44.757518Z"
    },
    "papermill": {
     "duration": 0.041996,
     "end_time": "2025-10-06T19:50:44.759361",
     "exception": false,
     "start_time": "2025-10-06T19:50:44.717365",
     "status": "completed"
    },
    "tags": []
   },
   "outputs": [],
   "source": [
    "class SentimentRNN_Pretrained(nn.Module):\n",
    "    def __init__(self, vocab_size, embed_dim, hidden_dim, output_dim, rnn_type='LSTM', num_layers=1, embedding_matrix=None):\n",
    "        super(SentimentRNN_Pretrained, self).__init__()\n",
    "        self.embedding = nn.Embedding(vocab_size, embed_dim)\n",
    "        \n",
    "        # Load pre-trained embeddings\n",
    "        if embedding_matrix is not None:\n",
    "            self.embedding.weight = nn.Parameter(torch.tensor(embedding_matrix, dtype=torch.float32))\n",
    "            self.embedding.weight.requires_grad = True  # True to fine-tune embeddings, False to freeze\n",
    "\n",
    "        if rnn_type=='LSTM':\n",
    "            self.rnn = nn.LSTM(embed_dim, hidden_dim, num_layers=num_layers, batch_first=True)\n",
    "        elif rnn_type=='GRU':\n",
    "            self.rnn = nn.GRU(embed_dim, hidden_dim, num_layers=num_layers, batch_first=True)\n",
    "        else:\n",
    "            self.rnn = nn.RNN(embed_dim, hidden_dim, num_layers=num_layers, batch_first=True)\n",
    "\n",
    "        self.fc = nn.Linear(hidden_dim, output_dim)\n",
    "        \n",
    "    def forward(self, x):\n",
    "        x = self.embedding(x)\n",
    "        _, h_n = self.rnn(x)\n",
    "        if isinstance(h_n, tuple):  # LSTM returns (h_n, c_n)\n",
    "            h_n = h_n[0]\n",
    "        out = self.fc(h_n[-1])  # last layer hidden state\n",
    "        return out\n"
   ]
  },
  {
   "cell_type": "code",
   "execution_count": 25,
   "id": "00bcb1ad",
   "metadata": {
    "execution": {
     "iopub.execute_input": "2025-10-06T19:50:44.824546Z",
     "iopub.status.busy": "2025-10-06T19:50:44.824271Z",
     "iopub.status.idle": "2025-10-06T19:50:54.978200Z",
     "shell.execute_reply": "2025-10-06T19:50:54.977287Z"
    },
    "papermill": {
     "duration": 10.188027,
     "end_time": "2025-10-06T19:50:54.979641",
     "exception": false,
     "start_time": "2025-10-06T19:50:44.791614",
     "status": "completed"
    },
    "tags": []
   },
   "outputs": [
    {
     "name": "stderr",
     "output_type": "stream",
     "text": [
      "                                                                     \r"
     ]
    },
    {
     "name": "stdout",
     "output_type": "stream",
     "text": [
      "Epoch [1/50] - Train Loss: 0.7275, Test Loss: 0.6643\n"
     ]
    },
    {
     "name": "stderr",
     "output_type": "stream",
     "text": [
      "                                                                     \r"
     ]
    },
    {
     "name": "stdout",
     "output_type": "stream",
     "text": [
      "Epoch [2/50] - Train Loss: 0.6574, Test Loss: 0.5723\n"
     ]
    },
    {
     "name": "stderr",
     "output_type": "stream",
     "text": [
      "                                                                     \r"
     ]
    },
    {
     "name": "stdout",
     "output_type": "stream",
     "text": [
      "Epoch [3/50] - Train Loss: 0.4463, Test Loss: 0.3593\n"
     ]
    },
    {
     "name": "stderr",
     "output_type": "stream",
     "text": [
      "                                                                     \r"
     ]
    },
    {
     "name": "stdout",
     "output_type": "stream",
     "text": [
      "Epoch [4/50] - Train Loss: 0.2747, Test Loss: 0.3533\n"
     ]
    },
    {
     "name": "stderr",
     "output_type": "stream",
     "text": [
      "                                                                     \r"
     ]
    },
    {
     "name": "stdout",
     "output_type": "stream",
     "text": [
      "Epoch [5/50] - Train Loss: 0.2168, Test Loss: 0.2647\n"
     ]
    },
    {
     "name": "stderr",
     "output_type": "stream",
     "text": [
      "                                                                     \r"
     ]
    },
    {
     "name": "stdout",
     "output_type": "stream",
     "text": [
      "Epoch [6/50] - Train Loss: 0.1699, Test Loss: 0.2209\n"
     ]
    },
    {
     "name": "stderr",
     "output_type": "stream",
     "text": [
      "                                                                     \r"
     ]
    },
    {
     "name": "stdout",
     "output_type": "stream",
     "text": [
      "Epoch [7/50] - Train Loss: 0.1435, Test Loss: 0.1997\n"
     ]
    },
    {
     "name": "stderr",
     "output_type": "stream",
     "text": [
      "                                                                     \r"
     ]
    },
    {
     "name": "stdout",
     "output_type": "stream",
     "text": [
      "Epoch [8/50] - Train Loss: 0.1213, Test Loss: 0.1761\n"
     ]
    },
    {
     "name": "stderr",
     "output_type": "stream",
     "text": [
      "                                                                     \r"
     ]
    },
    {
     "name": "stdout",
     "output_type": "stream",
     "text": [
      "Epoch [9/50] - Train Loss: 0.1450, Test Loss: 0.1879\n"
     ]
    },
    {
     "name": "stderr",
     "output_type": "stream",
     "text": [
      "                                                                      \r"
     ]
    },
    {
     "name": "stdout",
     "output_type": "stream",
     "text": [
      "Epoch [10/50] - Train Loss: 0.1011, Test Loss: 0.1983\n"
     ]
    },
    {
     "name": "stderr",
     "output_type": "stream",
     "text": [
      "                                                                      \r"
     ]
    },
    {
     "name": "stdout",
     "output_type": "stream",
     "text": [
      "Epoch [11/50] - Train Loss: 0.0811, Test Loss: 0.1508\n"
     ]
    },
    {
     "name": "stderr",
     "output_type": "stream",
     "text": [
      "                                                                      \r"
     ]
    },
    {
     "name": "stdout",
     "output_type": "stream",
     "text": [
      "Epoch [12/50] - Train Loss: 0.0997, Test Loss: 0.1616\n"
     ]
    },
    {
     "name": "stderr",
     "output_type": "stream",
     "text": [
      "                                                                      \r"
     ]
    },
    {
     "name": "stdout",
     "output_type": "stream",
     "text": [
      "Epoch [13/50] - Train Loss: 0.0778, Test Loss: 0.1505\n"
     ]
    },
    {
     "name": "stderr",
     "output_type": "stream",
     "text": [
      "                                                                      \r"
     ]
    },
    {
     "name": "stdout",
     "output_type": "stream",
     "text": [
      "Epoch [14/50] - Train Loss: 0.0649, Test Loss: 0.1488\n"
     ]
    },
    {
     "name": "stderr",
     "output_type": "stream",
     "text": [
      "                                                                      \r"
     ]
    },
    {
     "name": "stdout",
     "output_type": "stream",
     "text": [
      "Epoch [15/50] - Train Loss: 0.0784, Test Loss: 0.1667\n"
     ]
    },
    {
     "name": "stderr",
     "output_type": "stream",
     "text": [
      "                                                                      \r"
     ]
    },
    {
     "name": "stdout",
     "output_type": "stream",
     "text": [
      "Epoch [16/50] - Train Loss: 0.0749, Test Loss: 0.1424\n"
     ]
    },
    {
     "name": "stderr",
     "output_type": "stream",
     "text": [
      "                                                                      \r"
     ]
    },
    {
     "name": "stdout",
     "output_type": "stream",
     "text": [
      "Epoch [17/50] - Train Loss: 0.0602, Test Loss: 0.1426\n"
     ]
    },
    {
     "name": "stderr",
     "output_type": "stream",
     "text": [
      "                                                                       \r"
     ]
    },
    {
     "name": "stdout",
     "output_type": "stream",
     "text": [
      "Epoch [18/50] - Train Loss: 0.0788, Test Loss: 0.1524\n"
     ]
    },
    {
     "name": "stderr",
     "output_type": "stream",
     "text": [
      "                                                                      \r"
     ]
    },
    {
     "name": "stdout",
     "output_type": "stream",
     "text": [
      "Epoch [19/50] - Train Loss: 0.0830, Test Loss: 0.1654\n",
      "Early stopping triggered at epoch 19\n"
     ]
    },
    {
     "data": {
      "image/png": "[encoded data removed]",
      "text/plain": [
       "<Figure size 700x500 with 1 Axes>"
      ]
     },
     "metadata": {},
     "output_type": "display_data"
    }
   ],
   "source": [
    "device = torch.device(\"cuda\" if torch.cuda.is_available() else \"cpu\")\n",
    "hidden_dim = 64\n",
    "\n",
    "model = SentimentRNN_Pretrained(\n",
    "    vocab_size=vocab_size,\n",
    "    embed_dim=embedding_dim,\n",
    "    hidden_dim=hidden_dim,\n",
    "    output_dim=num_classes,\n",
    "    rnn_type='LSTM',\n",
    "    embedding_matrix=embedding_matrix\n",
    ")\n",
    "\n",
    "criterion = nn.CrossEntropyLoss()\n",
    "optimizer = torch.optim.Adam(model.parameters(), lr=0.001)\n",
    "\n",
    "model = train_model(\n",
    "    model, train_loader, test_loader,\n",
    "    criterion, optimizer,\n",
    "    num_epochs=50,\n",
    "    device=device,\n",
    "    patience=3\n",
    ")\n"
   ]
  },
  {
   "cell_type": "code",
   "execution_count": 26,
   "id": "b541be27",
   "metadata": {
    "execution": {
     "iopub.execute_input": "2025-10-06T19:50:55.058982Z",
     "iopub.status.busy": "2025-10-06T19:50:55.058709Z",
     "iopub.status.idle": "2025-10-06T19:50:55.116333Z",
     "shell.execute_reply": "2025-10-06T19:50:55.115121Z"
    },
    "papermill": {
     "duration": 0.098546,
     "end_time": "2025-10-06T19:50:55.117406",
     "exception": false,
     "start_time": "2025-10-06T19:50:55.018860",
     "status": "completed"
    },
    "tags": []
   },
   "outputs": [
    {
     "name": "stdout",
     "output_type": "stream",
     "text": [
      "Accuracy: 0.9629200463499421\n",
      "Confusion Matrix:\n",
      " [[  0  10   0]\n",
      " [  0 253   4]\n",
      " [  0  18 578]]\n",
      "Classification Report:\n",
      "               precision    recall  f1-score   support\n",
      "\n",
      "    Negative       0.00      0.00      0.00        10\n",
      "     Neutral       0.90      0.98      0.94       257\n",
      "    Positive       0.99      0.97      0.98       596\n",
      "\n",
      "    accuracy                           0.96       863\n",
      "   macro avg       0.63      0.65      0.64       863\n",
      "weighted avg       0.95      0.96      0.96       863\n",
      "\n"
     ]
    }
   ],
   "source": [
    "model.eval()\n",
    "y_true, y_pred = [], []\n",
    "\n",
    "with torch.no_grad():\n",
    "    for inputs, labels in test_loader:\n",
    "        inputs, labels = inputs.to(device), labels.to(device)\n",
    "        outputs = model(inputs)\n",
    "        _, preds = torch.max(outputs, dim=1)\n",
    "        y_true.extend(labels.cpu().numpy())\n",
    "        y_pred.extend(preds.cpu().numpy())\n",
    "\n",
    "from sklearn.metrics import accuracy_score, confusion_matrix, classification_report\n",
    "print(\"Accuracy:\", accuracy_score(y_true, y_pred))\n",
    "print(\"Confusion Matrix:\\n\", confusion_matrix(y_true, y_pred))\n",
    "print(\"Classification Report:\\n\", classification_report(y_true, y_pred, target_names=le.classes_))\n"
   ]
  },
  {
   "cell_type": "code",
   "execution_count": 27,
   "id": "4def45bf",
   "metadata": {
    "execution": {
     "iopub.execute_input": "2025-10-06T19:50:55.195946Z",
     "iopub.status.busy": "2025-10-06T19:50:55.195279Z",
     "iopub.status.idle": "2025-10-06T19:51:05.118086Z",
     "shell.execute_reply": "2025-10-06T19:51:05.117059Z"
    },
    "papermill": {
     "duration": 9.963963,
     "end_time": "2025-10-06T19:51:05.119559",
     "exception": false,
     "start_time": "2025-10-06T19:50:55.155596",
     "status": "completed"
    },
    "tags": []
   },
   "outputs": [
    {
     "name": "stderr",
     "output_type": "stream",
     "text": [
      "                                                                     \r"
     ]
    },
    {
     "name": "stdout",
     "output_type": "stream",
     "text": [
      "Epoch [1/50] - Train Loss: 0.7354, Test Loss: 0.6614\n"
     ]
    },
    {
     "name": "stderr",
     "output_type": "stream",
     "text": [
      "                                                                      \r"
     ]
    },
    {
     "name": "stdout",
     "output_type": "stream",
     "text": [
      "Epoch [2/50] - Train Loss: 0.5602, Test Loss: 0.4863\n"
     ]
    },
    {
     "name": "stderr",
     "output_type": "stream",
     "text": [
      "                                                                     \r"
     ]
    },
    {
     "name": "stdout",
     "output_type": "stream",
     "text": [
      "Epoch [3/50] - Train Loss: 0.3080, Test Loss: 0.3156\n"
     ]
    },
    {
     "name": "stderr",
     "output_type": "stream",
     "text": [
      "                                                                      \r"
     ]
    },
    {
     "name": "stdout",
     "output_type": "stream",
     "text": [
      "Epoch [4/50] - Train Loss: 0.1886, Test Loss: 0.2539\n"
     ]
    },
    {
     "name": "stderr",
     "output_type": "stream",
     "text": [
      "                                                                      \r"
     ]
    },
    {
     "name": "stdout",
     "output_type": "stream",
     "text": [
      "Epoch [5/50] - Train Loss: 0.1334, Test Loss: 0.1942\n"
     ]
    },
    {
     "name": "stderr",
     "output_type": "stream",
     "text": [
      "                                                                      \r"
     ]
    },
    {
     "name": "stdout",
     "output_type": "stream",
     "text": [
      "Epoch [6/50] - Train Loss: 0.0999, Test Loss: 0.1681\n"
     ]
    },
    {
     "name": "stderr",
     "output_type": "stream",
     "text": [
      "                                                                     \r"
     ]
    },
    {
     "name": "stdout",
     "output_type": "stream",
     "text": [
      "Epoch [7/50] - Train Loss: 0.0829, Test Loss: 0.1703\n"
     ]
    },
    {
     "name": "stderr",
     "output_type": "stream",
     "text": [
      "                                                                      \r"
     ]
    },
    {
     "name": "stdout",
     "output_type": "stream",
     "text": [
      "Epoch [8/50] - Train Loss: 0.0754, Test Loss: 0.1716\n"
     ]
    },
    {
     "name": "stderr",
     "output_type": "stream",
     "text": [
      "                                                                      \r"
     ]
    },
    {
     "name": "stdout",
     "output_type": "stream",
     "text": [
      "Epoch [9/50] - Train Loss: 0.0661, Test Loss: 0.1727\n",
      "Early stopping triggered at epoch 9\n"
     ]
    },
    {
     "data": {
      "image/png": "[encoded data removed]",
      "text/plain": [
       "<Figure size 700x500 with 1 Axes>"
      ]
     },
     "metadata": {},
     "output_type": "display_data"
    }
   ],
   "source": [
    "device = torch.device(\"cuda\" if torch.cuda.is_available() else \"cpu\")\n",
    "hidden_dim = 64\n",
    "\n",
    "model = SentimentRNN_Pretrained(\n",
    "    vocab_size=vocab_size,\n",
    "    embed_dim=embedding_dim,\n",
    "    hidden_dim=hidden_dim,\n",
    "    output_dim=num_classes,\n",
    "    rnn_type='GRU',\n",
    "    embedding_matrix=embedding_matrix\n",
    ")\n",
    "\n",
    "criterion = nn.CrossEntropyLoss()\n",
    "optimizer = torch.optim.Adam(model.parameters(), lr=0.001)\n",
    "\n",
    "model = train_model(\n",
    "    model, train_loader, test_loader,\n",
    "    criterion, optimizer,\n",
    "    num_epochs=50,\n",
    "    device=device,\n",
    "    patience=3\n",
    ")\n"
   ]
  },
  {
   "cell_type": "code",
   "execution_count": 28,
   "id": "4c5bab0a",
   "metadata": {
    "execution": {
     "iopub.execute_input": "2025-10-06T19:51:05.208492Z",
     "iopub.status.busy": "2025-10-06T19:51:05.208197Z",
     "iopub.status.idle": "2025-10-06T19:51:05.283609Z",
     "shell.execute_reply": "2025-10-06T19:51:05.282570Z"
    },
    "papermill": {
     "duration": 0.121371,
     "end_time": "2025-10-06T19:51:05.285073",
     "exception": false,
     "start_time": "2025-10-06T19:51:05.163702",
     "status": "completed"
    },
    "tags": []
   },
   "outputs": [
    {
     "name": "stdout",
     "output_type": "stream",
     "text": [
      "Accuracy: 0.9571263035921205\n",
      "Confusion Matrix:\n",
      " [[  3   7   0]\n",
      " [  2 248   7]\n",
      " [  0  21 575]]\n",
      "Classification Report:\n",
      "               precision    recall  f1-score   support\n",
      "\n",
      "    Negative       0.60      0.30      0.40        10\n",
      "     Neutral       0.90      0.96      0.93       257\n",
      "    Positive       0.99      0.96      0.98       596\n",
      "\n",
      "    accuracy                           0.96       863\n",
      "   macro avg       0.83      0.74      0.77       863\n",
      "weighted avg       0.96      0.96      0.96       863\n",
      "\n"
     ]
    }
   ],
   "source": [
    "model.eval()\n",
    "y_true, y_pred = [], []\n",
    "\n",
    "with torch.no_grad():\n",
    "    for inputs, labels in test_loader:\n",
    "        inputs, labels = inputs.to(device), labels.to(device)\n",
    "        outputs = model(inputs)\n",
    "        _, preds = torch.max(outputs, dim=1)\n",
    "        y_true.extend(labels.cpu().numpy())\n",
    "        y_pred.extend(preds.cpu().numpy())\n",
    "\n",
    "from sklearn.metrics import accuracy_score, confusion_matrix, classification_report\n",
    "print(\"Accuracy:\", accuracy_score(y_true, y_pred))\n",
    "print(\"Confusion Matrix:\\n\", confusion_matrix(y_true, y_pred))\n",
    "print(\"Classification Report:\\n\", classification_report(y_true, y_pred, target_names=le.classes_))\n"
   ]
  },
  {
   "cell_type": "code",
   "execution_count": 29,
   "id": "29f129d5",
   "metadata": {
    "execution": {
     "iopub.execute_input": "2025-10-06T19:51:05.374305Z",
     "iopub.status.busy": "2025-10-06T19:51:05.373990Z",
     "iopub.status.idle": "2025-10-06T19:51:07.566218Z",
     "shell.execute_reply": "2025-10-06T19:51:07.565440Z"
    },
    "papermill": {
     "duration": 2.238084,
     "end_time": "2025-10-06T19:51:07.567497",
     "exception": false,
     "start_time": "2025-10-06T19:51:05.329413",
     "status": "completed"
    },
    "tags": []
   },
   "outputs": [
    {
     "name": "stderr",
     "output_type": "stream",
     "text": [
      "                                                                     \r"
     ]
    },
    {
     "name": "stdout",
     "output_type": "stream",
     "text": [
      "Epoch [1/50] - Train Loss: 0.7171, Test Loss: 0.6679\n"
     ]
    },
    {
     "name": "stderr",
     "output_type": "stream",
     "text": [
      "                                                                     \r"
     ]
    },
    {
     "name": "stdout",
     "output_type": "stream",
     "text": [
      "Epoch [2/50] - Train Loss: 0.6704, Test Loss: 0.6734\n"
     ]
    },
    {
     "name": "stderr",
     "output_type": "stream",
     "text": [
      "                                                                     \r"
     ]
    },
    {
     "name": "stdout",
     "output_type": "stream",
     "text": [
      "Epoch [3/50] - Train Loss: 0.6708, Test Loss: 0.6687\n"
     ]
    },
    {
     "name": "stderr",
     "output_type": "stream",
     "text": [
      "                                                                     \r"
     ]
    },
    {
     "name": "stdout",
     "output_type": "stream",
     "text": [
      "Epoch [4/50] - Train Loss: 0.6708, Test Loss: 0.6727\n",
      "Early stopping triggered at epoch 4\n"
     ]
    },
    {
     "data": {
      "image/png": "[encoded data removed]",
      "text/plain": [
       "<Figure size 700x500 with 1 Axes>"
      ]
     },
     "metadata": {},
     "output_type": "display_data"
    }
   ],
   "source": [
    "device = torch.device(\"cuda\" if torch.cuda.is_available() else \"cpu\")\n",
    "hidden_dim = 64\n",
    "\n",
    "model = SentimentRNN_Pretrained(\n",
    "    vocab_size=vocab_size,\n",
    "    embed_dim=embedding_dim,\n",
    "    hidden_dim=hidden_dim,\n",
    "    output_dim=num_classes,\n",
    "    rnn_type='RNN',\n",
    "    embedding_matrix=embedding_matrix\n",
    ")\n",
    "\n",
    "criterion = nn.CrossEntropyLoss()\n",
    "optimizer = torch.optim.Adam(model.parameters(), lr=0.001)\n",
    "\n",
    "model = train_model(\n",
    "    model, train_loader, test_loader,\n",
    "    criterion, optimizer,\n",
    "    num_epochs=50,\n",
    "    device=device,\n",
    "    patience=3\n",
    ")\n"
   ]
  },
  {
   "cell_type": "code",
   "execution_count": 30,
   "id": "6104609a",
   "metadata": {
    "execution": {
     "iopub.execute_input": "2025-10-06T19:51:07.657580Z",
     "iopub.status.busy": "2025-10-06T19:51:07.657306Z",
     "iopub.status.idle": "2025-10-06T19:51:07.705818Z",
     "shell.execute_reply": "2025-10-06T19:51:07.704926Z"
    },
    "papermill": {
     "duration": 0.094963,
     "end_time": "2025-10-06T19:51:07.707138",
     "exception": false,
     "start_time": "2025-10-06T19:51:07.612175",
     "status": "completed"
    },
    "tags": []
   },
   "outputs": [
    {
     "name": "stdout",
     "output_type": "stream",
     "text": [
      "Accuracy: 0.6906141367323291\n",
      "Confusion Matrix:\n",
      " [[  0   0  10]\n",
      " [  0   0 257]\n",
      " [  0   0 596]]\n",
      "Classification Report:\n",
      "               precision    recall  f1-score   support\n",
      "\n",
      "    Negative       0.00      0.00      0.00        10\n",
      "     Neutral       0.00      0.00      0.00       257\n",
      "    Positive       0.69      1.00      0.82       596\n",
      "\n",
      "    accuracy                           0.69       863\n",
      "   macro avg       0.23      0.33      0.27       863\n",
      "weighted avg       0.48      0.69      0.56       863\n",
      "\n"
     ]
    }
   ],
   "source": [
    "model.eval()\n",
    "y_true, y_pred = [], []\n",
    "\n",
    "with torch.no_grad():\n",
    "    for inputs, labels in test_loader:\n",
    "        inputs, labels = inputs.to(device), labels.to(device)\n",
    "        outputs = model(inputs)\n",
    "        _, preds = torch.max(outputs, dim=1)\n",
    "        y_true.extend(labels.cpu().numpy())\n",
    "        y_pred.extend(preds.cpu().numpy())\n",
    "\n",
    "from sklearn.metrics import accuracy_score, confusion_matrix, classification_report\n",
    "print(\"Accuracy:\", accuracy_score(y_true, y_pred))\n",
    "print(\"Confusion Matrix:\\n\", confusion_matrix(y_true, y_pred))\n",
    "print(\"Classification Report:\\n\", classification_report(y_true, y_pred, target_names=le.classes_))\n"
   ]
  },
  {
   "cell_type": "markdown",
   "id": "14185d54",
   "metadata": {
    "papermill": {
     "duration": 0.044292,
     "end_time": "2025-10-06T19:51:07.796857",
     "exception": false,
     "start_time": "2025-10-06T19:51:07.752565",
     "status": "completed"
    },
    "tags": []
   },
   "source": [
    "## Conclusion"
   ]
  },
  {
   "cell_type": "markdown",
   "id": "2e981d95",
   "metadata": {
    "papermill": {
     "duration": 0.045296,
     "end_time": "2025-10-06T19:51:07.889295",
     "exception": false,
     "start_time": "2025-10-06T19:51:07.843999",
     "status": "completed"
    },
    "tags": []
   },
   "source": [
    "**GRU** turned out to be the best model in terms of accuracy. Pre-trained embedding increased accuracy by **0.01** approximately. NNs outperformed classic ML models."
   ]
  }
 ],
 "metadata": {
  "kaggle": {
   "accelerator": "none",
   "dataSources": [
    {
     "datasetId": 623394,
     "sourceId": 1111839,
     "sourceType": "datasetVersion"
    },
    {
     "datasetId": 8388491,
     "sourceId": 13274295,
     "sourceType": "datasetVersion"
    }
   ],
   "dockerImageVersionId": 31153,
   "isGpuEnabled": false,
   "isInternetEnabled": true,
   "language": "python",
   "sourceType": "notebook"
  },
  "kernelspec": {
   "display_name": "Python 3",
   "language": "python",
   "name": "python3"
  },
  "language_info": {
   "codemirror_mode": {
    "name": "ipython",
    "version": 3
   },
   "file_extension": ".py",
   "mimetype": "text/x-python",
   "name": "python",
   "nbconvert_exporter": "python",
   "pygments_lexer": "ipython3",
   "version": "3.11.13"
  },
  "papermill": {
   "default_parameters": {},
   "duration": 114.252695,
   "end_time": "2025-10-06T19:51:11.191890",
   "environment_variables": {},
   "exception": null,
   "input_path": "__notebook__.ipynb",
   "output_path": "__notebook__.ipynb",
   "parameters": {},
   "start_time": "2025-10-06T19:49:16.939195",
   "version": "2.6.0"
  }
 },
 "nbformat": 4,
 "nbformat_minor": 5
}
